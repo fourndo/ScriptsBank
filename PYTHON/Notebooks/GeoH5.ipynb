{
 "cells": [
  {
   "cell_type": "markdown",
   "metadata": {},
   "source": [
    "# This is a notebook\n",
    "\n",
    "We will show you how to call geoh5 projects from Analyst\n"
   ]
  },
  {
   "cell_type": "code",
   "execution_count": 13,
   "metadata": {},
   "outputs": [],
   "source": [
    "import h5py\n",
    "import numpy as np\n",
    "import ipywidgets as widgets\n",
    "from SimPEG import Utils\n",
    "from library import Mag\n",
    "#!/usr/bin/env python\n",
    "# -*- coding: utf-8 -*-"
   ]
  },
  {
   "cell_type": "code",
   "execution_count": 14,
   "metadata": {},
   "outputs": [],
   "source": [
    "# Load in GA h5\n",
    "# work_dir =\"C:\\\\Users\\\\DominiqueFournier\\\\Google Drive\\\\Research\\\\Tli_Kwi_Cho\\\\Modelling\\\\\"\n",
    "# fileName =\"Test.geoh5\"\n",
    "work_dir = r'C:\\Users\\DominiqueFournier\\Google Drive\\Research\\Tli_Kwi_Cho\\Modelling'\n",
    "fileName = r'\\Consortium_Oct2017.geoh5'"
   ]
  },
  {
   "cell_type": "code",
   "execution_count": 15,
   "metadata": {},
   "outputs": [],
   "source": [
    "# project = h5py.File(work_dir+fileName, 'r')\n",
    "\n",
    "# keys = list(project['GEOSCIENCE']['Objects'].keys())"
   ]
  },
  {
   "cell_type": "code",
   "execution_count": 16,
   "metadata": {},
   "outputs": [],
   "source": [
    "# list(project['GEOSCIENCE']['Data'][dataKeys[0]]['Data'])"
   ]
  },
  {
   "cell_type": "code",
   "execution_count": 17,
   "metadata": {},
   "outputs": [],
   "source": [
    "# dataKeys = list(project['GEOSCIENCE']['Objects'][keys[0]]['Data'].keys())\n",
    "\n",
    "# for dkey in dataKeys:\n",
    "#     print(list(project['GEOSCIENCE']['Objects'][keys[0]]['Data'][dkey]['Data']))\n",
    "    \n"
   ]
  },
  {
   "cell_type": "code",
   "execution_count": 18,
   "metadata": {},
   "outputs": [],
   "source": [
    "# project.close()"
   ]
  },
  {
   "cell_type": "code",
   "execution_count": 19,
   "metadata": {},
   "outputs": [],
   "source": [
    "def geoh5Reader(h5File):\n",
    "\n",
    "    def listObjects(name):\n",
    "        project = h5py.File(work_dir+fileName, 'r+')\n",
    "        \n",
    "        dictOut = {}\n",
    "        for key in keys:\n",
    "            if name == project['GEOSCIENCE']['Objects'][key].attrs['Name']:\n",
    "                \n",
    "#                 print(project['GEOSCIENCE']['Objects'][key])\n",
    "                dictOut['x'] = project['GEOSCIENCE']['Objects'][key]['Vertices']['x']\n",
    "                dictOut['y'] = project['GEOSCIENCE']['Objects'][key]['Vertices']['y']\n",
    "                dictOut['z'] = project['GEOSCIENCE']['Objects'][key]['Vertices']['z']\n",
    "                dkey = list(project['GEOSCIENCE']['Objects'][key]['Data'].keys())\n",
    "                \n",
    "                dictOut['data'] = np.r_[list(project['GEOSCIENCE']['Data'][dkey[5]]['Data'])]\n",
    "                \n",
    "                # Add random vector data\n",
    "#                 project['GEOSCIENCE']['Objects'][key]['RandDataColmn'] = np.random.randn(loc_x.shape[0])\n",
    "                \n",
    "        project.close()\n",
    "        return dictOut\n",
    "\n",
    "    project = h5py.File(work_dir+fileName, 'r')\n",
    "\n",
    "    keys = list(project['GEOSCIENCE']['Objects'].keys())\n",
    "\n",
    "    names = []\n",
    "    for key in keys:\n",
    "        names += [project['GEOSCIENCE']['Objects'][key].attrs['Name']]\n",
    "\n",
    "    project.close()\n",
    "    out = widgets.interactive(listObjects,\n",
    "                              name=widgets.Dropdown(\n",
    "                                  options=names,\n",
    "                                  value=names[0],\n",
    "                                  description='Objects',\n",
    "                                  disabled=False,\n",
    "                                )\n",
    "                             )\n",
    "                              \n",
    "    return out\n",
    "\n"
   ]
  },
  {
   "cell_type": "code",
   "execution_count": 20,
   "metadata": {},
   "outputs": [
    {
     "data": {
      "application/vnd.jupyter.widget-view+json": {
       "model_id": "aabe429f39954182bfa5489876d348e4",
       "version_major": 2,
       "version_minor": 0
      },
      "text/plain": [
       "interactive(children=(Dropdown(description='Objects', options=('DIGHEM_Mag_floor10nt_25m', 'PK3', 'CDED_076c05…"
      ]
     },
     "metadata": {},
     "output_type": "display_data"
    }
   ],
   "source": [
    "out = geoh5Reader(work_dir+fileName)\n",
    "display(out)\n"
   ]
  },
  {
   "cell_type": "code",
   "execution_count": 21,
   "metadata": {},
   "outputs": [],
   "source": [
    "survey = Mag.Mag.createMagSurvey(\n",
    "    np.c_[out.result['x'],\n",
    "          out.result['y'],\n",
    "          out.result['z']], \n",
    "    EarthField=np.r_[50000, 90, 0],\n",
    "    data=out.result['data']\n",
    ") "
   ]
  },
  {
   "cell_type": "code",
   "execution_count": 22,
   "metadata": {},
   "outputs": [
    {
     "data": {
      "application/vnd.jupyter.widget-view+json": {
       "model_id": "09ec12e88a66405c806123e3b711f9b4",
       "version_major": 2,
       "version_minor": 0
      },
      "text/plain": [
       "interactive(children=(FloatSlider(value=0.0, continuous_update=False, description='SunAzimuth', max=360.0, ste…"
      ]
     },
     "metadata": {},
     "output_type": "display_data"
    }
   ],
   "source": [
    "Mag.Simulator.dataHillsideWidget(survey)"
   ]
  },
  {
   "cell_type": "code",
   "execution_count": 23,
   "metadata": {},
   "outputs": [
    {
     "data": {
      "application/vnd.jupyter.widget-view+json": {
       "model_id": "f2e3d815adf24a0eaf80c4482949f026",
       "version_major": 2,
       "version_minor": 0
      },
      "text/plain": [
       "interactive(children=(ToggleButton(value=False, description='Refresh'), FloatSlider(value=351.25, continuous_u…"
      ]
     },
     "metadata": {},
     "output_type": "display_data"
    }
   ],
   "source": [
    "sim = Mag.Simulator.ViewPrism(survey)\n",
    "display(sim)"
   ]
  },
  {
   "cell_type": "code",
   "execution_count": 24,
   "metadata": {
    "scrolled": false
   },
   "outputs": [
    {
     "data": {
      "application/vnd.jupyter.widget-view+json": {
       "model_id": "83d6dec62f374003b8a29c33b2437383",
       "version_major": 2,
       "version_minor": 0
      },
      "text/plain": [
       "interactive(children=(ToggleButton(value=False, description='Refresh'), FloatSlider(value=0.1, continuous_upda…"
      ]
     },
     "metadata": {},
     "output_type": "display_data"
    }
   ],
   "source": [
    "fwrSim = Mag.Simulator.PFSimulator(sim.result, survey)\n",
    "display(fwrSim)"
   ]
  },
  {
   "cell_type": "code",
   "execution_count": null,
   "metadata": {},
   "outputs": [],
   "source": []
  }
 ],
 "metadata": {
  "kernelspec": {
   "display_name": "Python 3",
   "language": "python",
   "name": "python3"
  },
  "language_info": {
   "codemirror_mode": {
    "name": "ipython",
    "version": 3
   },
   "file_extension": ".py",
   "mimetype": "text/x-python",
   "name": "python",
   "nbconvert_exporter": "python",
   "pygments_lexer": "ipython3",
   "version": "3.6.5"
  }
 },
 "nbformat": 4,
 "nbformat_minor": 2
}
