{
 "cells": [
  {
   "cell_type": "code",
   "execution_count": 1,
   "metadata": {
    "collapsed": false
   },
   "outputs": [
    {
     "name": "stdout",
     "output_type": "stream",
     "text": [
      "Efficiency Warning: Interpolation will be slow, use setup.py!\n",
      "\n",
      "            python setup.py build_ext --inplace\n",
      "    \n"
     ]
    }
   ],
   "source": [
    "from SimPEG import *"
   ]
  },
  {
   "cell_type": "code",
   "execution_count": 2,
   "metadata": {
    "collapsed": false
   },
   "outputs": [],
   "source": [
    "path = \"C:\\Users\\dominiquef.MIRAGEOSCIENCE\\Dropbox\\EOSC 556b (2013) EM\\TKC_Project\\Codes\\CLUSTERING\\Models/\"\n",
    "meshto = Utils.meshutils.readUBCTensorMesh(path+'TKC_common_mesh.msh');\n",
    "modelto =Utils.meshutils.readUBCTensorModel(path+'dens_commonmesh.den', meshto);"
   ]
  },
  {
   "cell_type": "code",
   "execution_count": 3,
   "metadata": {
    "collapsed": false
   },
   "outputs": [],
   "source": [
    "meshfrom = Utils.meshutils.readUBCTensorMesh(path+'Mesh_20m.msh');\n",
    "modelfrommag = Utils.meshutils.readUBCTensorModel(path+'MAG3D_TMI_l0l0_iter7.sus', meshfrom);"
   ]
  },
  {
   "cell_type": "code",
   "execution_count": 4,
   "metadata": {
    "collapsed": true
   },
   "outputs": [],
   "source": [
    "inactindfrom = modelfrommag==-100.\n",
    "inactindto = modelto==-100."
   ]
  },
  {
   "cell_type": "code",
   "execution_count": 5,
   "metadata": {
    "collapsed": true
   },
   "outputs": [],
   "source": [
    "import scipy.interpolate as interpolation\n",
    "def InterpMeshtoMesh(meshfrom, meshto, modelfrom, inactindfrom, inactindto, inactval = -100.):\n",
    "    Fint = interpolation.NearestNDInterpolator(meshfrom.gridCC[~inactindfrom,:],modelfrom[~inactindfrom]) \n",
    "    modelout = np.ones(meshto.nC)*inactval\n",
    "    modelout[~inactindto] = Fint(meshto.gridCC[~inactindto,:])\n",
    "    return modelout"
   ]
  },
  {
   "cell_type": "code",
   "execution_count": 6,
   "metadata": {
    "collapsed": false
   },
   "outputs": [],
   "source": [
    "magout = InterpMeshtoMesh(meshfrom, meshto, modelfrommag, inactindfrom, inactindto)"
   ]
  },
  {
   "cell_type": "code",
   "execution_count": 7,
   "metadata": {
    "collapsed": false
   },
   "outputs": [],
   "source": [
    "Utils.meshutils.writeUBCTensorModel(\"magl0l0.sus\", meshto, magout)"
   ]
  },
  {
   "cell_type": "code",
   "execution_count": 17,
   "metadata": {
    "collapsed": false
   },
   "outputs": [
    {
     "data": {
      "text/plain": [
       "15758"
      ]
     },
     "execution_count": 17,
     "metadata": {},
     "output_type": "execute_result"
    }
   ],
   "source": [
    "inactindto.sum()"
   ]
  },
  {
   "cell_type": "code",
   "execution_count": null,
   "metadata": {
    "collapsed": true
   },
   "outputs": [],
   "source": []
  }
 ],
 "metadata": {
  "kernelspec": {
   "display_name": "Python 2",
   "language": "python",
   "name": "python2"
  },
  "language_info": {
   "codemirror_mode": {
    "name": "ipython",
    "version": 2
   },
   "file_extension": ".py",
   "mimetype": "text/x-python",
   "name": "python",
   "nbconvert_exporter": "python",
   "pygments_lexer": "ipython2",
   "version": "2.7.10"
  }
 },
 "nbformat": 4,
 "nbformat_minor": 0
}
