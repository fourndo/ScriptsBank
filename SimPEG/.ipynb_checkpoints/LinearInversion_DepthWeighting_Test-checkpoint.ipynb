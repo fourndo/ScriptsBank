{
 "cells": [
  {
   "cell_type": "code",
   "execution_count": 1,
   "metadata": {
    "collapsed": false
   },
   "outputs": [
    {
     "name": "stdout",
     "output_type": "stream",
     "text": [
      "Efficiency Warning: Interpolation will be slow, use setup.py!\n",
      "\n",
      "            python setup.py build_ext --inplace\n",
      "    \n",
      "Populating the interactive namespace from numpy and matplotlib\n"
     ]
    }
   ],
   "source": [
    "from __future__ import print_function\n",
    "import numpy as np\n",
    "from SimPEG import Mesh\n",
    "from SimPEG import Problem\n",
    "from SimPEG import Survey\n",
    "from SimPEG import DataMisfit\n",
    "from SimPEG import Directives\n",
    "from SimPEG import Optimization\n",
    "from SimPEG import Regularization\n",
    "from SimPEG import InvProblem\n",
    "from SimPEG import Inversion\n",
    "import matplotlib.pyplot as plt\n",
    "%pylab inline"
   ]
  },
  {
   "cell_type": "markdown",
   "metadata": {},
   "source": [
    "# Mag Inversion\n",
    "\n",
    "## Step1: Generating mesh"
   ]
  },
  {
   "cell_type": "code",
   "execution_count": 2,
   "metadata": {
    "collapsed": false
   },
   "outputs": [],
   "source": [
    "np.random.seed(1)\n",
    "Z = 1.\n",
    "\n",
    "N = 100\n",
    "dx = Z/N\n",
    "hx = np.r_[np.ones(int(3*N/4))*dx, np.ones(int(N/4))*dx]\n",
    "hx[[60]] = dx*5.\n",
    "hx *= (Z/np.sum(hx)) # Re-normalize the length to compensate for the notch\n",
    "\n",
    "mesh = Mesh.TensorMesh([hx])\n",
    "\n",
    "nk = 10\n",
    "jk = np.linspace(1., 60., nk)\n",
    "p = -0.2/Z\n",
    "q = 0.2/Z\n",
    "\n",
    "def g(k):\n",
    "    a = p*(k+1)\n",
    "    b = 2*np.pi*q*(k+1)\n",
    "    return (\n",
    "        \n",
    "\n",
    "        \n",
    "#         np.exp(a*mesh.vectorCCx) *\n",
    "#         np.cos(b*mesh.vectorCCx)\n",
    "#         ((np.exp(p*(k+1)*mesh.vectorNx[0:-1]) *\n",
    "#         np.cos(2*np.pi*q*(k+1)*mesh.vectorNx[0:-1]))+\n",
    "#         (np.exp(p*(k+1)*mesh.vectorNx[1:]) *\n",
    "#         np.cos(2*np.pi*q*(k+1)*mesh.vectorNx[1:]))) / 2 *\n",
    "#         mesh.hx\n",
    "        np.exp( a * mesh.vectorNx[1:] ) * (a/(a**2+b**2)*cos (b * mesh.vectorNx[1:]) + b/(a**2+b**2) *sin (b * mesh.vectorNx[1:])) -\n",
    "        np.exp( a * mesh.vectorNx[0:-1] ) * (a/(a**2+b**2)*cos (b * mesh.vectorNx[0:-1]) + b/(a**2+b**2) *sin (b * mesh.vectorNx[0:-1]))\n",
    "    )\n",
    "\n",
    "F = np.empty((nk, mesh.nC))\n",
    "\n",
    "for i in range(nk):\n",
    "    F[i, :] = g(i)"
   ]
  },
  {
   "cell_type": "markdown",
   "metadata": {},
   "source": [
    "## Step2: Generating Model\n",
    "\n"
   ]
  },
  {
   "cell_type": "code",
   "execution_count": 3,
   "metadata": {
    "collapsed": false
   },
   "outputs": [],
   "source": [
    "mtrue = np.zeros(mesh.nC)\n",
    "mtrue[mesh.vectorCCx > N*dx*0.35] = 0.25\n",
    "mtrue[mesh.vectorCCx > N*dx*0.65] = 0\n"
   ]
  },
  {
   "cell_type": "code",
   "execution_count": 25,
   "metadata": {
    "collapsed": false
   },
   "outputs": [
    {
     "name": "stdout",
     "output_type": "stream",
     "text": [
      "SimPEG.DataMisfit.l2_DataMisfit assigning default eps of 1e-5 * ||dobs||\n",
      "SimPEG.InvProblem will set Regularization.mref to m0.\n",
      "\n",
      "        SimPEG.InvProblem is setting bfgsH0 to the inverse of the eval2Deriv.\n",
      "        ***Done using same Solver and solverOpts as the problem***\n",
      "model has any nan: 0\n",
      "=============================== Projected GNCG ===============================\n",
      "  #     beta     phi_d     phi_m       f      |proj(x-g)-x|  LS    Comment   \n",
      "-----------------------------------------------------------------------------\n",
      "x0 has any nan: 0\n",
      "   0  1.00e+07  1.99e+03  0.00e+00  1.99e+03    5.53e+03      0              \n",
      "   1  5.00e+06  1.99e+03  7.42e-10  1.99e+03    2.77e+03      0              \n",
      "   2  2.50e+06  1.99e+03  2.97e-09  1.99e+03    2.77e+03      0   Skip BFGS  \n",
      "   3  1.25e+06  1.99e+03  1.19e-08  1.99e+03    2.77e+03      0   Skip BFGS  \n",
      "   4  6.25e+05  1.99e+03  4.75e-08  1.99e+03    2.77e+03      0   Skip BFGS  \n",
      "   5  3.12e+05  1.99e+03  1.90e-07  1.99e+03    2.77e+03      0   Skip BFGS  \n",
      "   6  1.56e+05  1.99e+03  7.59e-07  1.99e+03    2.77e+03      0   Skip BFGS  \n",
      "   7  7.81e+04  1.99e+03  3.03e-06  1.99e+03    2.76e+03      0   Skip BFGS  \n",
      "   8  3.91e+04  1.99e+03  1.21e-05  1.99e+03    2.76e+03      0   Skip BFGS  \n",
      "   9  1.95e+04  1.99e+03  4.83e-05  1.99e+03    2.76e+03      0   Skip BFGS  \n",
      "  10  9.77e+03  1.99e+03  1.92e-04  1.99e+03    2.74e+03      0   Skip BFGS  \n",
      "  11  4.88e+03  1.98e+03  7.55e-04  1.98e+03    2.72e+03      0   Skip BFGS  \n",
      "  12  2.44e+03  1.97e+03  2.93e-03  1.97e+03    2.68e+03      0   Skip BFGS  \n",
      "  13  1.22e+03  1.94e+03  1.11e-02  1.95e+03    2.60e+03      0   Skip BFGS  \n",
      "  14  6.10e+02  1.89e+03  4.04e-02  1.92e+03    2.47e+03      0   Skip BFGS  \n",
      "  15  3.05e+02  1.81e+03  1.38e-01  1.85e+03    2.27e+03      0   Skip BFGS  \n",
      "  16  1.53e+02  1.68e+03  4.45e-01  1.75e+03    2.01e+03      0   Skip BFGS  \n",
      "  17  7.63e+01  1.49e+03  1.37e+00  1.60e+03    1.74e+03      0   Skip BFGS  \n",
      "  18  3.81e+01  1.22e+03  4.02e+00  1.37e+03    1.46e+03      0   Skip BFGS  \n",
      "  19  1.91e+01  8.69e+02  1.06e+01  1.07e+03    1.18e+03      0   Skip BFGS  \n",
      "  20  9.54e+00  5.18e+02  2.39e+01  7.45e+02    8.78e+02      0   Skip BFGS  \n",
      "  21  4.77e+00  2.51e+02  4.35e+01  4.58e+02    5.93e+02      0   Skip BFGS  \n",
      "  22  2.38e+00  1.00e+02  6.53e+01  2.56e+02    3.64e+02      0   Skip BFGS  \n",
      "------------------------- STOP! -------------------------\n",
      "1 : |fc-fOld| = 0.0000e+00 <= tolF*(1+|f0|) = 1.9960e+02\n",
      "0 : |xc-x_last| = 1.3388e-01 <= tolX*(1+|x0|) = 1.0000e-01\n",
      "0 : |proj(x-g)-x|    = 3.6362e+02 <= tolG          = 1.0000e-01\n",
      "0 : |proj(x-g)-x|    = 3.6362e+02 <= 1e3*eps       = 1.0000e-02\n",
      "0 : maxIter   =     100    <= iter          =     23\n",
      "------------------------- DONE! -------------------------\n"
     ]
    }
   ],
   "source": [
    "prob = Problem.LinearProblem(mesh, F=F)\n",
    "survey = Survey.LinearSurvey()\n",
    "survey.pair(prob)\n",
    "survey.makeSyntheticData(mtrue, std=0.05)\n",
    "\n",
    "M = prob.mesh\n",
    "\n",
    "wr = np.sum(prob.F**2., axis=0)**0.5\n",
    "wr = (wr)\n",
    "reg_t = Regularization.Tikhonov(mesh, alpha_s=1/dx**2, alpha_x=1.)\n",
    "reg_t.cell_weights = wr/mesh.vol\n",
    "dmis = DataMisfit.l2_DataMisfit(survey)\n",
    "opt = Optimization.ProjectedGNCG(maxIter=100)\n",
    "invProb = InvProblem.BaseInvProblem(dmis, reg_t, opt, beta = 1e+7)\n",
    "directives = [\n",
    "    Directives.TargetMisfit(chifact=10),\n",
    "    Directives.BetaSchedule(coolingFactor=2., coolingRate=1)\n",
    "]\n",
    "inv = Inversion.BaseInversion(invProb, directiveList=directives)\n",
    "m0 = np.zeros_like(survey.mtrue)\n",
    "\n",
    "mrec_Thikonov = inv.run(m0)\n",
    "\n"
   ]
  },
  {
   "cell_type": "code",
   "execution_count": 26,
   "metadata": {
    "collapsed": false
   },
   "outputs": [
    {
     "name": "stdout",
     "output_type": "stream",
     "text": [
      "SimPEG.DataMisfit.l2_DataMisfit assigning default eps of 1e-5 * ||dobs||\n",
      "SimPEG.InvProblem will set Regularization.mref to m0.\n",
      "\n",
      "        SimPEG.InvProblem is setting bfgsH0 to the inverse of the eval2Deriv.\n",
      "        ***Done using same Solver and solverOpts as the problem***\n",
      "model has any nan: 0\n",
      "=============================== Projected GNCG ===============================\n",
      "  #     beta     phi_d     phi_m       f      |proj(x-g)-x|  LS    Comment   \n",
      "-----------------------------------------------------------------------------\n",
      "x0 has any nan: 0\n",
      "   0  1.00e+05  1.99e+03  0.00e+00  1.99e+03    5.53e+03      0              \n",
      "   1  5.00e+04  2.67e+02  4.22e-03  4.78e+02    6.14e+02      0              \n",
      "   2  2.50e+04  1.08e+02  6.42e-03  2.69e+02    3.79e+02      0   Skip BFGS  \n",
      "------------------------- STOP! -------------------------\n",
      "1 : |fc-fOld| = 0.0000e+00 <= tolF*(1+|f0|) = 1.9960e+02\n",
      "0 : |xc-x_last| = 1.3780e-01 <= tolX*(1+|x0|) = 1.0000e-01\n",
      "0 : |proj(x-g)-x|    = 3.7875e+02 <= tolG          = 1.0000e-01\n",
      "0 : |proj(x-g)-x|    = 3.7875e+02 <= 1e3*eps       = 1.0000e-02\n",
      "0 : maxIter   =     100    <= iter          =      3\n",
      "------------------------- DONE! -------------------------\n"
     ]
    }
   ],
   "source": [
    "reg_s = Regularization.Simple(mesh, alpha_s=1., alpha_x=1.)\n",
    "reg_s.cell_weights = wr\n",
    "dmis_s = DataMisfit.l2_DataMisfit(survey)\n",
    "opt_s = Optimization.ProjectedGNCG(maxIter=100)\n",
    "invProb_s = InvProblem.BaseInvProblem(dmis_s, reg_s, opt_s, beta = 1e+5)\n",
    "directives = [\n",
    "    Directives.TargetMisfit(chifact=10),\n",
    "    Directives.BetaSchedule(coolingFactor=2., coolingRate=1)\n",
    "]\n",
    "inv_s = Inversion.BaseInversion(invProb_s, directiveList=directives)\n",
    "m0 = np.zeros_like(survey.mtrue)\n",
    "\n",
    "mrec_Simple = inv_s.run(m0)"
   ]
  },
  {
   "cell_type": "code",
   "execution_count": 27,
   "metadata": {
    "collapsed": false
   },
   "outputs": [
    {
     "data": {
      "image/png": "[encoded data removed]",
      "text/plain": [
       "<matplotlib.figure.Figure at 0x1f098582e10>"
      ]
     },
     "metadata": {},
     "output_type": "display_data"
    }
   ],
   "source": [
    "fig, axes = plt.subplots(1, 2, figsize=(12*1.2, 4*1.2))\n",
    "for i in range(prob.F.shape[0]):\n",
    "    axes[0].step(M.vectorCCx,prob.F[i, :])\n",
    "axes[0].set_title('Columns of matrix F')\n",
    "\n",
    "axes[1].step(M.vectorCCx, survey.mtrue, 'b-')\n",
    "axes[1].step(M.vectorCCx, mrec_Thikonov, 'r-')\n",
    "axes[1].step(M.vectorCCx, mrec_Simple, 'g-')\n",
    "axes[1].legend(('True Model', 'Thikonov Model', 'Simple Model'))\n",
    "axes[1].set_ylim([-0.1, 0.4])\n",
    "axes[1].grid(True)\n",
    "\n",
    "plt.savefig('InvModel_1Bigcell_mixWr.png')"
   ]
  },
  {
   "cell_type": "code",
   "execution_count": 7,
   "metadata": {
    "collapsed": false
   },
   "outputs": [
    {
     "data": {
      "text/plain": [
       "[<matplotlib.lines.Line2D at 0x1f09808f048>]"
      ]
     },
     "execution_count": 7,
     "metadata": {},
     "output_type": "execute_result"
    },
    {
     "data": {
      "image/png": "[encoded data removed]",
      "text/plain": [
       "<matplotlib.figure.Figure at 0x1f097adcc88>"
      ]
     },
     "metadata": {},
     "output_type": "display_data"
    }
   ],
   "source": [
    "plt.figure()\n",
    "plt.plot(survey.dobs)"
   ]
  },
  {
   "cell_type": "code",
   "execution_count": null,
   "metadata": {
    "collapsed": true
   },
   "outputs": [],
   "source": []
  },
  {
   "cell_type": "code",
   "execution_count": null,
   "metadata": {
    "collapsed": true
   },
   "outputs": [],
   "source": []
  }
 ],
 "metadata": {
  "kernelspec": {
   "display_name": "Python 3",
   "language": "python",
   "name": "python3"
  },
  "language_info": {
   "codemirror_mode": {
    "name": "ipython",
    "version": 3
   },
   "file_extension": ".py",
   "mimetype": "text/x-python",
   "name": "python",
   "nbconvert_exporter": "python",
   "pygments_lexer": "ipython3",
   "version": "3.6.0"
  }
 },
 "nbformat": 4,
 "nbformat_minor": 0
}
