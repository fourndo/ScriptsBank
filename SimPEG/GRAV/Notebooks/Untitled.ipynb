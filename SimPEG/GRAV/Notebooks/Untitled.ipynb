{
 "cells": [
  {
   "cell_type": "code",
   "execution_count": 1,
   "metadata": {
    "collapsed": true
   },
   "outputs": [],
   "source": [
    "import numpy as np\n",
    "import matplotlib.pyplot as plt\n",
    "\n",
    "from SimPEG import Mesh\n",
    "from SimPEG import Utils\n",
    "from SimPEG import Maps\n",
    "from SimPEG import Regularization\n",
    "from SimPEG import DataMisfit\n",
    "from SimPEG import Optimization\n",
    "from SimPEG import InvProblem\n",
    "from SimPEG import Directives\n",
    "from SimPEG import Inversion\n",
    "from SimPEG import PF\n",
    "\n",
    "\n"
   ]
  },
  {
   "cell_type": "code",
   "execution_count": 2,
   "metadata": {
    "collapsed": true
   },
   "outputs": [],
   "source": [
    "# Create a mesh\n",
    "dx = 5.\n",
    "\n",
    "hxind = [(dx, 5, -1.3), (dx, 15), (dx, 5, 1.3)]\n",
    "hyind = [(dx, 5, -1.3), (dx, 15), (dx, 5, 1.3)]\n",
    "hzind = [(dx, 5, -1.3), (dx, 7), (3.5, 1), (2, 5)]\n",
    "\n",
    "mesh = Mesh.TensorMesh([hxind, hyind, hzind], 'CCC')\n",
    "\n",
    "# Get index of the center\n",
    "midx = int(mesh.nCx/2)\n",
    "midy = int(mesh.nCy/2)\n",
    "\n",
    "# # Lets create a simple Gaussian topo and set the active cells\n",
    "# [xx, yy] = np.meshgrid(mesh.vectorNx, mesh.vectorNy)\n",
    "# zz = -np.exp((xx**2 + yy**2) / 75**2) + mesh.vectorNz[-1]\n",
    "\n",
    "# # We would usually load a topofile\n",
    "# topo = np.c_[Utils.mkvc(xx), Utils.mkvc(yy), Utils.mkvc(zz)]\n",
    "\n",
    "# Go from topo to actv cells\n",
    "actv = np.ones(mesh.nC, dtype='bool')#Utils.surface2ind_topo(mesh, topo, 'N')\n",
    "# actv = np.asarray([inds for inds, elem in enumerate(actv, 1) if elem],\n",
    "#                   dtype=int) - 1\n",
    "\n",
    "# Create active map to go from reduce space to full\n",
    "actvMap = Maps.InjectActiveCells(mesh, actv, -100)\n",
    "nC = len(actv)\n",
    "\n"
   ]
  },
  {
   "cell_type": "code",
   "execution_count": 6,
   "metadata": {
    "collapsed": true
   },
   "outputs": [],
   "source": [
    "# Create and array of observation points\n",
    "xr = np.linspace(-30., 30., 20)\n",
    "yr = np.linspace(-30., 30., 20)\n",
    "X, Y = np.meshgrid(xr, yr)\n",
    "\n",
    "# Move the observation points 5m above the topo\n",
    "Z = np.ones_like(X) * mesh.vectorNz[-1] + 1\n",
    "\n",
    "# Create a MAGsurvey\n",
    "rxLoc = np.c_[Utils.mkvc(X.T), Utils.mkvc(Y.T), Utils.mkvc(Z.T)]\n",
    "rxLoc = PF.BaseGrav.RxObs(rxLoc)\n",
    "srcField = PF.BaseGrav.SrcField([rxLoc])\n",
    "survey = PF.BaseGrav.LinearSurvey(srcField)\n",
    "\n"
   ]
  },
  {
   "cell_type": "code",
   "execution_count": 7,
   "metadata": {},
   "outputs": [
    {
     "name": "stdout",
     "output_type": "stream",
     "text": [
      "Begin calculation of forward operator: z\n",
      "Done 0.0 %\n",
      "Done 10.0 %\n",
      "Done 20.0 %\n",
      "Done 30.0 %\n",
      "Done 40.0 %\n",
      "Done 50.0 %\n",
      "Done 60.0 %\n",
      "Done 70.0 %\n",
      "Done 80.0 %\n",
      "Done 90.0 %\n",
      "Done 100% ...forward operator completed!!\n",
      "\n"
     ]
    }
   ],
   "source": [
    "# We can now create a susceptibility model and generate data\n",
    "# Here a simple block in half-space\n",
    "model = np.zeros((mesh.nCx, mesh.nCy, mesh.nCz))\n",
    "model[(midx-5):(midx-1), (midy-2):(midy+2), -10:-6] = 0.5\n",
    "model[(midx+1):(midx+5), (midy-2):(midy+2), -10:-6] = -0.5\n",
    "model = Utils.mkvc(model)\n",
    "model = model[actv]\n",
    "\n",
    "# Create active map to go from reduce set to full\n",
    "actvMap = Maps.InjectActiveCells(mesh, actv, -100)\n",
    "\n",
    "# Create reduced identity map\n",
    "idenMap = Maps.IdentityMap(nP=nC)\n",
    "\n",
    "# Create the forward model operator\n",
    "prob = PF.Gravity.GravityIntegral(mesh, rhoMap=idenMap, actInd=actv)\n",
    "\n",
    "# Pair the survey and problem\n",
    "survey.pair(prob)\n",
    "\n",
    "# Compute linear forward operator and compute some data\n",
    "d = prob.fields(model)\n",
    "\n",
    "# Add noise and uncertainties\n",
    "# We add some random Gaussian noise (1nT)\n",
    "data = d + np.random.randn(len(d))*1e-3\n",
    "wd = np.ones(len(data))*1e-3  # Assign flat uncertainties\n",
    "\n",
    "survey.dobs = data\n",
    "survey.std = wd\n",
    "survey.mtrue = model\n",
    "\n",
    "# Create sensitivity weights from our linear forward operator\n",
    "rxLoc = survey.srcField.rxList[0].locs\n",
    "wr = np.sum(prob.G**2., axis=0)**0.5\n",
    "wr = (wr/np.max(wr))\n",
    "\n"
   ]
  },
  {
   "cell_type": "code",
   "execution_count": 8,
   "metadata": {},
   "outputs": [
    {
     "name": "stdout",
     "output_type": "stream",
     "text": [
      "SimPEG.DataMisfit.l2_DataMisfit assigning default eps of 1e-5 * ||dobs||\n",
      "SimPEG.InvProblem will set Regularization.mref to m0.\n",
      "\n",
      "    SimPEG.InvProblem is setting bfgsH0 to the inverse of the eval2Deriv.\n",
      "    ***Done using same Solver and solverOpts as the problem***\n",
      "model has any nan: 0\n",
      "=============================== Projected GNCG ===============================\n",
      "  #     beta     phi_d     phi_m       f      |proj(x-g)-x|  LS    Comment   \n",
      "-----------------------------------------------------------------------------\n",
      "x0 has any nan: 0\n",
      "   0  5.69e+07  5.66e+04  0.00e+00  5.66e+04    1.06e+02      0              \n",
      "   1  2.84e+07  5.60e+04  4.95e-06  5.62e+04    1.06e+02      0              \n",
      "   2  1.42e+07  5.55e+04  1.95e-05  5.58e+04    1.06e+02      0   Skip BFGS  \n",
      "   3  7.11e+06  5.44e+04  7.59e-05  5.50e+04    1.06e+02      0   Skip BFGS  \n",
      "   4  3.55e+06  5.24e+04  2.88e-04  5.34e+04    1.06e+02      0   Skip BFGS  \n",
      "   5  1.78e+06  4.88e+04  1.05e-03  5.06e+04    1.06e+02      0   Skip BFGS  \n",
      "   6  8.88e+05  4.28e+04  3.53e-03  4.59e+04    1.06e+02      0   Skip BFGS  \n",
      "   7  4.44e+05  3.43e+04  1.05e-02  3.90e+04    1.06e+02      0   Skip BFGS  \n",
      "   8  2.22e+05  2.46e+04  2.63e-02  3.04e+04    1.05e+02      0   Skip BFGS  \n",
      "   9  1.11e+05  1.59e+04  5.42e-02  2.19e+04    1.05e+02      0   Skip BFGS  \n",
      "  10  5.55e+04  9.53e+03  9.47e-02  1.48e+04    1.04e+02      0   Skip BFGS  \n",
      "  11  2.78e+04  5.26e+03  1.49e-01  9.39e+03    1.02e+02      0   Skip BFGS  \n",
      "  12  1.39e+04  2.59e+03  2.16e-01  5.59e+03    9.88e+01      0   Skip BFGS  \n",
      "  13  6.94e+03  1.15e+03  2.88e-01  3.15e+03    9.52e+01      0   Skip BFGS  \n",
      "  14  3.47e+03  5.06e+02  3.51e-01  1.73e+03    9.02e+01      0   Skip BFGS  \n",
      "  15  1.74e+03  2.65e+02  3.98e-01  9.57e+02    8.28e+01      0   Skip BFGS  \n",
      "Convergence with smooth l2-norm regularization: Start IRLS steps...\n",
      "L[p qx qy qz]-norm : [0 1 1 1]\n",
      "eps_p: 0.02995219957926297 eps_q: 0.011070280594334011\n",
      "Regularization decrease: 8.802e+00\n",
      "  16  1.74e+03  1.82e+02  4.31e-01  9.30e+02    9.24e+01      0   Skip BFGS  \n",
      "  17  1.74e+03  1.68e+02  3.88e-01  8.41e+02    3.72e+01      0              \n",
      "  18  1.74e+03  1.68e+02  3.88e-01  8.40e+02    1.52e+01      0              \n",
      "Regularization decrease: 1.655e-01\n",
      "  19  2.07e+03  1.68e+02  3.88e-01  9.69e+02    7.51e+01      0              \n",
      "  20  2.07e+03  1.76e+02  3.69e-01  9.38e+02    3.33e+01      0              \n",
      "  21  2.07e+03  1.76e+02  3.68e-01  9.37e+02    6.37e+00      0              \n",
      "Regularization decrease: 8.187e-02\n",
      "  22  2.35e+03  1.76e+02  3.68e-01  1.04e+03    6.65e+01      0              \n",
      "  23  2.35e+03  1.83e+02  3.51e-01  1.01e+03    3.49e+01      0              \n",
      "  24  2.35e+03  1.83e+02  3.51e-01  1.01e+03    5.23e+00      0              \n",
      "Regularization decrease: 8.341e-02\n",
      "  25  2.57e+03  1.83e+02  3.51e-01  1.08e+03    6.26e+01      0              \n",
      "  26  2.57e+03  1.89e+02  3.35e-01  1.05e+03    3.52e+01      0              \n",
      "  27  2.57e+03  1.89e+02  3.35e-01  1.05e+03    5.26e+00      0              \n",
      "Regularization decrease: 8.463e-02\n",
      "  28  2.72e+03  1.89e+02  3.35e-01  1.10e+03    5.70e+01      0              \n",
      "  29  2.72e+03  1.96e+02  3.21e-01  1.07e+03    3.28e+01      0              \n",
      "  30  2.72e+03  1.95e+02  3.21e-01  1.07e+03    4.44e+00      0              \n",
      "Regularization decrease: 7.232e-02\n",
      "  31  2.72e+03  1.95e+02  3.21e-01  1.07e+03    3.71e+01      0              \n",
      "  32  2.72e+03  1.99e+02  3.10e-01  1.04e+03    3.12e+01      0              \n",
      "  33  2.72e+03  1.99e+02  3.10e-01  1.04e+03    3.70e+00      0              \n",
      "Regularization decrease: 5.676e-02\n",
      "  34  2.72e+03  1.99e+02  3.10e-01  1.04e+03    3.20e+01      0              \n",
      "  35  2.72e+03  2.03e+02  3.00e-01  1.02e+03    3.33e+01      0              \n",
      "  36  2.72e+03  2.03e+02  3.00e-01  1.02e+03    5.49e+00      0              \n",
      "Regularization decrease: 5.006e-02\n",
      "  37  2.72e+03  2.03e+02  3.00e-01  1.02e+03    2.83e+01      0              \n",
      "  38  2.72e+03  2.08e+02  2.90e-01  9.97e+02    3.38e+01      0              \n",
      "  39  2.72e+03  2.07e+02  2.90e-01  9.97e+02    7.44e+00      0              \n",
      "Regularization decrease: 4.648e-02\n",
      "  40  2.72e+03  2.08e+02  2.90e-01  9.97e+02    2.63e+01      0              \n",
      "  41  2.72e+03  2.13e+02  2.82e-01  9.79e+02    3.27e+01      0              \n",
      "  42  2.72e+03  2.12e+02  2.82e-01  9.79e+02    7.11e+00      0              \n",
      "Regularization decrease: 3.955e-02\n",
      "  43  2.56e+03  2.12e+02  2.82e-01  9.35e+02    3.96e+01      0              \n",
      "  44  2.56e+03  2.11e+02  2.77e-01  9.21e+02    3.00e+01      0              \n",
      "  45  2.56e+03  2.12e+02  2.77e-01  9.21e+02    6.31e+00      0              \n",
      "Reach maximum number of IRLS cycles: 10\n",
      "------------------------- STOP! -------------------------\n",
      "1 : |fc-fOld| = 0.0000e+00 <= tolF*(1+|f0|) = 5.6607e+03\n",
      "1 : |xc-x_last| = 4.7215e-03 <= tolX*(1+|x0|) = 1.0106e-01\n",
      "0 : |proj(x-g)-x|    = 6.3139e+00 <= tolG          = 1.0000e-01\n",
      "0 : |proj(x-g)-x|    = 6.3139e+00 <= 1e3*eps       = 1.0000e-02\n",
      "0 : maxIter   =     100    <= iter          =     46\n",
      "------------------------- DONE! -------------------------\n"
     ]
    }
   ],
   "source": [
    "# Create a regularization\n",
    "reg = Regularization.Sparse(mesh, indActive=actv, mapping=idenMap)\n",
    "reg.cell_weights = wr\n",
    "reg.norms = [0, 1, 1, 1]\n",
    "\n",
    "# Data misfit function\n",
    "dmis = DataMisfit.l2_DataMisfit(survey)\n",
    "dmis.W = Utils.sdiag(1/wd)\n",
    "\n",
    "# Add directives to the inversion\n",
    "opt = Optimization.ProjectedGNCG(maxIter=100, lower=-1., upper=1.,\n",
    "                                 maxIterLS=20, maxIterCG=10,\n",
    "                                 tolCG=1e-3)\n",
    "invProb = InvProblem.BaseInvProblem(dmis, reg, opt)\n",
    "betaest = Directives.BetaEstimate_ByEig()\n",
    "\n",
    "# Here is where the norms are applied\n",
    "# Use pick a treshold parameter empirically based on the distribution of\n",
    "# model parameters\n",
    "IRLS = Directives.Update_IRLS(f_min_change=1e-2, minGNiter=3)\n",
    "update_Jacobi = Directives.Update_lin_PreCond()\n",
    "inv = Inversion.BaseInversion(invProb, directiveList=[IRLS,\n",
    "                                                      betaest,\n",
    "                                                      update_Jacobi])\n",
    "\n",
    "# Run the inversion\n",
    "m0 = np.ones(nC)*1e-4  # Starting model\n",
    "mrec = inv.run(m0)"
   ]
  },
  {
   "cell_type": "code",
   "execution_count": null,
   "metadata": {
    "collapsed": true
   },
   "outputs": [],
   "source": [
    "IRLS.l2model"
   ]
  },
  {
   "cell_type": "code",
   "execution_count": 25,
   "metadata": {},
   "outputs": [
    {
     "data": {
      "image/png": "[encoded data removed]",
      "text/plain": [
       "<matplotlib.figure.Figure at 0x1f916bbb7f0>"
      ]
     },
     "metadata": {},
     "output_type": "display_data"
    }
   ],
   "source": [
    "midy = int(mesh.vnC[1]/2)\n",
    "fig = plt.figure(figsize=(5, 2.5))\n",
    "ax2 = plt.subplot()\n",
    "mesh.plotSlice(IRLS.l2model, normal='Y', ind=midy, ax=ax2)\n",
    "loc = ax2.get_position()\n",
    "ax2.set_aspect('equal')\n",
    "ax2.set_position([loc.x0+0.025, loc.y0+0.025, loc.width, loc.height])\n",
    "ax2.set_xlabel('X (m)')\n",
    "ax2.set_ylabel('Depth (m)')\n",
    "ax2.axis([-50, 50, 0, 50])\n",
    "plt.show()"
   ]
  },
  {
   "cell_type": "code",
   "execution_count": null,
   "metadata": {
    "collapsed": true
   },
   "outputs": [],
   "source": [
    "# Create subproblem\n"
   ]
  }
 ],
 "metadata": {
  "kernelspec": {
   "display_name": "Python 3",
   "language": "python",
   "name": "python3"
  },
  "language_info": {
   "codemirror_mode": {
    "name": "ipython",
    "version": 3
   },
   "file_extension": ".py",
   "mimetype": "text/x-python",
   "name": "python",
   "nbconvert_exporter": "python",
   "pygments_lexer": "ipython3",
   "version": "3.6.2"
  }
 },
 "nbformat": 4,
 "nbformat_minor": 2
}
