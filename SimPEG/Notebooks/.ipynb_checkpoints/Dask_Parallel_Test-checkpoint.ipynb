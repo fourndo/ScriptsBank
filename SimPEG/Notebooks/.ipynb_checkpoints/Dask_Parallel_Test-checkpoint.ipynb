{
 "cells": [
  {
   "cell_type": "code",
   "execution_count": 29,
   "metadata": {
    "collapsed": true
   },
   "outputs": [],
   "source": [
    "import numpy as np\n",
    "import SimPEG.PF as PF\n",
    "import dask as dd\n",
    "import scipy.constants as constants\n",
    "from SimPEG import Problem\n",
    "from SimPEG import Utils\n",
    "from SimPEG import Props\n",
    "from SimPEG.Utils import mkvc\n",
    "import scipy.sparse as sp\n",
    "import os\n",
    "import dask.array as da\n"
   ]
  },
  {
   "cell_type": "code",
   "execution_count": 45,
   "metadata": {},
   "outputs": [],
   "source": [
    "# Create functions for Dask\n",
    "def calcTrow(Xn,Yn,Zn,xyzLoc, rxType='z'):\n",
    "    \"\"\"\n",
    "    Load in the active nodes of a tensor mesh and computes the gravity tensor\n",
    "    for a given observation location xyzLoc[obsx, obsy, obsz]\n",
    "\n",
    "    INPUT:\n",
    "    Xn, Yn, Zn: Node location matrix for the lower and upper most corners of\n",
    "                all cells in the mesh shape[nC,2]\n",
    "    M\n",
    "    OUTPUT:\n",
    "    Tx = [Txx Txy Txz]\n",
    "    Ty = [Tyx Tyy Tyz]\n",
    "    Tz = [Tzx Tzy Tzz]\n",
    "\n",
    "    where each elements have dimension 1-by-nC.\n",
    "    Only the upper half 5 elements have to be computed since symetric.\n",
    "    Currently done as for-loops but will eventually be changed to vector\n",
    "    indexing, once the topography has been figured out.\n",
    "\n",
    "    \"\"\"\n",
    "\n",
    "    NewtG = constants.G*1e+8  # Convertion from mGal (1e-5) and g/cc (1e-3)\n",
    "    eps = 1e-8  # add a small value to the locations to avoid\n",
    "\n",
    "    # Pre-allocate space for 1D array\n",
    "    row = np.zeros((1, Xn.shape[0]))\n",
    "\n",
    "    dz = xyzLoc[2] - Zn\n",
    "\n",
    "    dy = Yn - xyzLoc[1]\n",
    "\n",
    "    dx = Xn - xyzLoc[0]\n",
    "\n",
    "    # Compute contribution from each corners\n",
    "    for aa in range(2):\n",
    "        for bb in range(2):\n",
    "            for cc in range(2):\n",
    "\n",
    "                r = (\n",
    "                        mkvc(dx[:, aa]) ** 2 +\n",
    "                        mkvc(dy[:, bb]) ** 2 +\n",
    "                        mkvc(dz[:, cc]) ** 2\n",
    "                    ) ** (0.50)\n",
    "\n",
    "                if rxType == 'x':\n",
    "                    row = row - NewtG * (-1) ** aa * (-1) ** bb * (-1) ** cc * (\n",
    "                        dy[:, bb] * np.log(dz[:, cc] + r + eps) +\n",
    "                        dz[:, cc] * np.log(dy[:, bb] + r + eps) -\n",
    "                        dx[:, aa] * np.arctan(dy[:, bb] * dz[:, cc] /\n",
    "                                              (dx[:, aa] * r + eps)))\n",
    "\n",
    "                elif rxType == 'y':\n",
    "                    row = row - NewtG * (-1) ** aa * (-1) ** bb * (-1) ** cc * (\n",
    "                        dx[:, aa] * np.log(dz[:, cc] + r + eps) +\n",
    "                        dz[:, cc] * np.log(dx[:, aa] + r + eps) -\n",
    "                        dy[:, bb] * np.arctan(dx[:, aa] * dz[:, cc] /\n",
    "                                              (dy[:, bb] * r + eps)))\n",
    "\n",
    "                else:\n",
    "                    row -= NewtG * (-1) ** aa * (-1) ** bb * (-1) ** cc * (\n",
    "                        dx[:, aa] * np.log(dy[:, bb] + r + eps) +\n",
    "                        dy[:, bb] * np.log(dx[:, aa] + r + eps) -\n",
    "                        dz[:, cc] * np.arctan(dx[:, aa] * dy[:, bb] /\n",
    "                                              (dz[:, cc] * r + eps)))\n",
    "\n",
    "    return row\n",
    "\n",
    "                        \n"
   ]
  },
  {
   "cell_type": "code",
   "execution_count": 50,
   "metadata": {},
   "outputs": [
    {
     "name": "stdout",
     "output_type": "stream",
     "text": [
      "C:\\Users\\DominiqueFournier\\ownCloud\\Research\\Synthetic\\Block_Gaussian_topo\\GRAV\\\\Mesh_10m.msh\n",
      "Wall time: 11.1 s\n"
     ]
    }
   ],
   "source": [
    "%%time\n",
    "\n",
    "\n",
    "# Load data and run forward using multiprocessing\n",
    "work_dir = \"C:\\\\Users\\\\DominiqueFournier\\\\ownCloud\\\\Research\\\\Synthetic\\\\Block_Gaussian_topo\\\\GRAV\\\\\"\n",
    "\n",
    "# work_dir = \"C:\\\\Users\\\\DominiqueFournier\\\\Documents\\\\GIT\\\\InnovationGeothermal\\\\FORGE\\\\SyntheticModel\\\\\"\n",
    "\n",
    "inpfile = 'SimPEG_GRAV.inp'\n",
    "out_dir = \"SimPEG_GRAV_Inv\\\\\"\n",
    "dsep = '\\\\'\n",
    "dsep = os.path.sep\n",
    "\n",
    "os.system('mkdir ' + work_dir + dsep + out_dir)\n",
    "\n",
    "\n",
    "# Read input file\n",
    "driver = PF.GravityDriver.GravityDriver_Inv(work_dir + dsep + inpfile)\n",
    "mesh = driver.mesh\n",
    "survey = driver.survey\n",
    "\n",
    "rxLoc = survey.srcField.rxList[0].locs\n",
    "\n",
    "# Setup the forward calc\n",
    "bsw = (mesh.gridCC -\n",
    "       np.kron(mesh.vol.T**(1/3)/2,\n",
    "               np.ones(3)).reshape((mesh.nC, 3)))\n",
    "tne = (mesh.gridCC +\n",
    "       np.kron(mesh.vol.T**(1/3)/2,\n",
    "               np.ones(3)).reshape((mesh.nC, 3)))\n",
    "\n",
    "xn1, xn2 = bsw[:, 0], tne[:, 0]\n",
    "yn1, yn2 = bsw[:, 1], tne[:, 1]\n",
    "zn1, zn2 = bsw[:, 2], tne[:, 2]\n",
    "\n",
    "Yn = np.c_[Utils.mkvc(yn1), Utils.mkvc(yn2)]\n",
    "Xn = np.c_[Utils.mkvc(xn1), Utils.mkvc(xn2)]\n",
    "Zn = np.c_[Utils.mkvc(zn1), Utils.mkvc(zn2)]\n",
    "\n",
    "def appendTrows(Xn,Yn,Zn,row):\n",
    "    row = calcTrow(Xn,Yn,Zn,row)\n",
    "    return row\n",
    "\n",
    "buildMat = [dd.delayed(appendTrows)(Xn,Yn,Zn,rxLoc[ii, :]) for ii in range(rxLoc.shape[0])]\n",
    "    \n",
    "T = np.squeeze(np.vstack(dd.compute(buildMat)))"
   ]
  },
  {
   "cell_type": "code",
   "execution_count": 53,
   "metadata": {},
   "outputs": [
    {
     "name": "stdout",
     "output_type": "stream",
     "text": [
      "Wall time: 344 ms\n"
     ]
    }
   ],
   "source": [
    "%%time\n",
    "x = np.random.randn(T.shape[1])\n",
    "da.dot(T, x)"
   ]
  },
  {
   "cell_type": "code",
   "execution_count": 17,
   "metadata": {},
   "outputs": [
    {
     "name": "stdout",
     "output_type": "stream",
     "text": [
      "Begin linear forward calculation: z\n",
      "Linear forward calculation ended in: 13.260994672775269 sec\n",
      "Wall time: 13.3 s\n"
     ]
    }
   ],
   "source": [
    "%%time\n",
    "survey.unpair()\n",
    "prob = PF.Gravity.GravityIntegral(mesh=mesh,\n",
    "                                  n_cpu=None, parallelized=True)\n",
    "prob.solverOpts['accuracyTol'] = 1e-4\n",
    "\n",
    "survey.pair(prob)\n",
    "\n",
    "F = prob.F"
   ]
  },
  {
   "cell_type": "code",
   "execution_count": null,
   "metadata": {
    "collapsed": true
   },
   "outputs": [],
   "source": []
  }
 ],
 "metadata": {
  "kernelspec": {
   "display_name": "Python 3",
   "language": "python",
   "name": "python3"
  },
  "language_info": {
   "codemirror_mode": {
    "name": "ipython",
    "version": 3
   },
   "file_extension": ".py",
   "mimetype": "text/x-python",
   "name": "python",
   "nbconvert_exporter": "python",
   "pygments_lexer": "ipython3",
   "version": "3.7.0"
  }
 },
 "nbformat": 4,
 "nbformat_minor": 2
}
