{
 "cells": [
  {
   "cell_type": "code",
   "execution_count": 1,
   "metadata": {},
   "outputs": [
    {
     "name": "stdout",
     "output_type": "stream",
     "text": [
      "Populating the interactive namespace from numpy and matplotlib\n"
     ]
    }
   ],
   "source": [
    "from SimPEG import Mesh, Directives, Maps, InvProblem, Optimization, Utils, PF\n",
    "from SimPEG import DataMisfit, Inversion, Regularization, Problem, Survey, Props\n",
    "from SimPEG.Utils import mkvc, speye, kron3, sdiag\n",
    "import numpy as np\n",
    "import scipy as sp\n",
    "import os\n",
    "%pylab inline"
   ]
  },
  {
   "cell_type": "code",
   "execution_count": 2,
   "metadata": {
    "collapsed": true
   },
   "outputs": [],
   "source": [
    "from matplotlib.colors import LightSource\n",
    "from scipy.interpolate import griddata\n",
    "from scipy.spatial import cKDTree\n",
    "from scipy.interpolate.interpnd import _ndim_coords_from_arrays\n",
    "\n",
    "def plotTopoHillside(xyz, axs=None, fill=True, contour=False, vmin=None, vmax=None,\n",
    "                     clabel=True, cmap = 'RdBu_r', ve=1., alpha=1., alphaHS=1.,\n",
    "                     distMax=1000, midpoint=0, azdeg=315, altdeg=45):\n",
    "    \n",
    "    ls = LightSource(azdeg=azdeg, altdeg=altdeg)\n",
    "    \n",
    "    # Create grid of points\n",
    "    x = np.linspace(xyz[:, 0].min(), xyz[:, 0].max(), 1000)\n",
    "    y = np.linspace(xyz[:, 1].min(), xyz[:, 1].max(), 1000)\n",
    "\n",
    "    X, Y = np.meshgrid(x, y)\n",
    "\n",
    "    # Interpolate\n",
    "    d_grid = griddata(xyz[:, 0:2], xyz[:,2], (X, Y), method='cubic')\n",
    "    \n",
    "    # Remove points beyond treshold\n",
    "    tree = cKDTree(xyz[:,:2])\n",
    "    xi = _ndim_coords_from_arrays((X, Y), ndim=2)\n",
    "    dists, indexes = tree.query(xi)\n",
    "\n",
    "    # Copy original result but mask missing values with NaNs\n",
    "    d_grid[dists > distMax] = np.nan\n",
    "\n",
    "\n",
    "    class MidPointNorm(Normalize):    \n",
    "        def __init__(self, midpoint=0, vmin=None, vmax=None, clip=False):\n",
    "            Normalize.__init__(self,vmin, vmax, clip)\n",
    "            self.midpoint = midpoint\n",
    "\n",
    "        def __call__(self, value, clip=None):\n",
    "            if clip is None:\n",
    "                clip = self.clip\n",
    "\n",
    "            result, is_scalar = self.process_value(value)\n",
    "\n",
    "            self.autoscale_None(result)\n",
    "            vmin, vmax, midpoint = self.vmin, self.vmax, self.midpoint\n",
    "\n",
    "            if not (vmin < midpoint < vmax):\n",
    "                raise ValueError(\"midpoint must be between maxvalue and minvalue.\")       \n",
    "            elif vmin == vmax:\n",
    "                result.fill(0) # Or should it be all masked? Or 0.5?\n",
    "            elif vmin > vmax:\n",
    "                raise ValueError(\"maxvalue must be bigger than minvalue\")\n",
    "            else:\n",
    "                vmin = float(vmin)\n",
    "                vmax = float(vmax)\n",
    "                if clip:\n",
    "                    mask = ma.getmask(result)\n",
    "                    result = ma.array(np.clip(result.filled(vmax), vmin, vmax),\n",
    "                                      mask=mask)\n",
    "\n",
    "                # ma division is very slow; we can take a shortcut\n",
    "                resdat = result.data\n",
    "\n",
    "                #First scale to -1 to 1 range, than to from 0 to 1.\n",
    "                resdat -= midpoint            \n",
    "                resdat[resdat>0] /= abs(vmax - midpoint)            \n",
    "                resdat[resdat<0] /= abs(vmin - midpoint)\n",
    "\n",
    "                resdat /= 2.\n",
    "                resdat += 0.5\n",
    "                result = ma.array(resdat, mask=result.mask, copy=False)                \n",
    "\n",
    "            if is_scalar:\n",
    "                result = result[0]            \n",
    "            return result\n",
    "\n",
    "        def inverse(self, value):\n",
    "            if not self.scaled():\n",
    "                raise ValueError(\"Not invertible until scaled\")\n",
    "            vmin, vmax, midpoint = self.vmin, self.vmax, self.midpoint\n",
    "\n",
    "            if cbook.iterable(value):\n",
    "                val = ma.asarray(value)\n",
    "                val = 2 * (val-0.5)  \n",
    "                val[val>0]  *= abs(vmax - midpoint)\n",
    "                val[val<0] *= abs(vmin - midpoint)\n",
    "                val += midpoint\n",
    "                return val\n",
    "            else:\n",
    "                val = 2 * (val - 0.5)\n",
    "                if val < 0: \n",
    "                    return  val*abs(vmin-midpoint) + midpoint\n",
    "                else:\n",
    "                    return  val*abs(vmax-midpoint) + midpoint\n",
    "\n",
    "    im, CS= [], []\n",
    "    if axs is None:\n",
    "        axs = plt.subplot()\n",
    "        \n",
    "    if fill:\n",
    "        extent = x.min(), x.max(), y.min(), y.max()\n",
    "        im = axs.contourf(X, Y, d_grid, 50, vmin=vmin, vmax=vmax,\n",
    "                          cmap=cmap, norm=MidPointNorm(midpoint=midpoint), alpha=alpha)\n",
    "        \n",
    "        axs.imshow(ls.hillshade(d_grid, vert_exag=ve, dx=1., dy=1.),\n",
    "                        cmap='gray', alpha=alphaHS,\n",
    "                        extent=extent, origin='lower')\n",
    "\n",
    "    if np.any(contour):\n",
    "        CS = axs.contour(X, Y, d_grid, contour, colors='k', vmin=vmin, vmax=vmax, linewidths=0.5)\n",
    "        \n",
    "        if clabel:\n",
    "            plt.clabel(CS, inline=1, fontsize=10, fmt='%i')\n",
    "    return im, CS \n",
    "\n",
    "# DO18 = np.loadtxt('C:\\\\Users\\DominiqueFournier\\\\ownCloud\\\\TKC_CaseStudy\\\\Modelling\\\\GIS\\\\Harder_Outlines\\\\Harder2008_DO18_Outline.dat')\n",
    "# DO27 = np.loadtxt('C:\\\\Users\\DominiqueFournier\\\\ownCloud\\\\TKC_CaseStudy\\\\Modelling\\\\GIS\\\\Harder_Outlines\\\\Harder2008_DO27_Outline.dat')\n"
   ]
  },
  {
   "cell_type": "code",
   "execution_count": 3,
   "metadata": {},
   "outputs": [
    {
     "ename": "FileNotFoundError",
     "evalue": "[Errno 2] No such file or directory: 'DIGHEM_Mag_floor10nt_25m.obs'",
     "output_type": "error",
     "traceback": [
      "\u001b[1;31m---------------------------------------------------------------------------\u001b[0m",
      "\u001b[1;31mFileNotFoundError\u001b[0m                         Traceback (most recent call last)",
      "\u001b[1;32m<ipython-input-3-231c6e77c9a7>\u001b[0m in \u001b[0;36m<module>\u001b[1;34m()\u001b[0m\n\u001b[0;32m      4\u001b[0m \u001b[1;33m\u001b[0m\u001b[0m\n\u001b[0;32m      5\u001b[0m \u001b[1;31m# Read the data\u001b[0m\u001b[1;33m\u001b[0m\u001b[1;33m\u001b[0m\u001b[0m\n\u001b[1;32m----> 6\u001b[1;33m \u001b[0msurvey\u001b[0m \u001b[1;33m=\u001b[0m \u001b[0mPF\u001b[0m\u001b[1;33m.\u001b[0m\u001b[0mMagnetics\u001b[0m\u001b[1;33m.\u001b[0m\u001b[0mreadMagneticsObservations\u001b[0m\u001b[1;33m(\u001b[0m\u001b[1;34m'DIGHEM_Mag_floor10nt_25m.obs'\u001b[0m\u001b[1;33m)\u001b[0m\u001b[1;33m\u001b[0m\u001b[0m\n\u001b[0m\u001b[0;32m      7\u001b[0m \u001b[0mrxLoc\u001b[0m \u001b[1;33m=\u001b[0m \u001b[0msurvey\u001b[0m\u001b[1;33m.\u001b[0m\u001b[0msrcField\u001b[0m\u001b[1;33m.\u001b[0m\u001b[0mrxList\u001b[0m\u001b[1;33m[\u001b[0m\u001b[1;36m0\u001b[0m\u001b[1;33m]\u001b[0m\u001b[1;33m.\u001b[0m\u001b[0mlocs\u001b[0m\u001b[1;33m\u001b[0m\u001b[0m\n\u001b[0;32m      8\u001b[0m \u001b[0mxlim\u001b[0m \u001b[1;33m=\u001b[0m \u001b[1;33m[\u001b[0m\u001b[0mrxLoc\u001b[0m\u001b[1;33m[\u001b[0m\u001b[1;33m:\u001b[0m\u001b[1;33m,\u001b[0m\u001b[1;36m0\u001b[0m\u001b[1;33m]\u001b[0m\u001b[1;33m.\u001b[0m\u001b[0mmin\u001b[0m\u001b[1;33m(\u001b[0m\u001b[1;33m)\u001b[0m\u001b[1;33m,\u001b[0m \u001b[0mrxLoc\u001b[0m\u001b[1;33m[\u001b[0m\u001b[1;33m:\u001b[0m\u001b[1;33m,\u001b[0m\u001b[1;36m0\u001b[0m\u001b[1;33m]\u001b[0m\u001b[1;33m.\u001b[0m\u001b[0mmax\u001b[0m\u001b[1;33m(\u001b[0m\u001b[1;33m)\u001b[0m\u001b[1;33m]\u001b[0m\u001b[1;33m\u001b[0m\u001b[0m\n",
      "\u001b[1;32m~\\Documents\\GIT\\SimPEG\\SimPEG\\PF\\Magnetics.py\u001b[0m in \u001b[0;36mreadMagneticsObservations\u001b[1;34m(obs_file)\u001b[0m\n\u001b[0;32m   1700\u001b[0m         \"\"\"\n\u001b[0;32m   1701\u001b[0m \u001b[1;33m\u001b[0m\u001b[0m\n\u001b[1;32m-> 1702\u001b[1;33m         \u001b[0mfid\u001b[0m \u001b[1;33m=\u001b[0m \u001b[0mopen\u001b[0m\u001b[1;33m(\u001b[0m\u001b[0mobs_file\u001b[0m\u001b[1;33m,\u001b[0m \u001b[1;34m'r'\u001b[0m\u001b[1;33m)\u001b[0m\u001b[1;33m\u001b[0m\u001b[0m\n\u001b[0m\u001b[0;32m   1703\u001b[0m \u001b[1;33m\u001b[0m\u001b[0m\n\u001b[0;32m   1704\u001b[0m         \u001b[1;31m# First line has the inclination,declination and amplitude of B0\u001b[0m\u001b[1;33m\u001b[0m\u001b[1;33m\u001b[0m\u001b[0m\n",
      "\u001b[1;31mFileNotFoundError\u001b[0m: [Errno 2] No such file or directory: 'DIGHEM_Mag_floor10nt_25m.obs'"
     ]
    },
    {
     "data": {
      "image/png": "[encoded data removed]",
      "text/plain": [
       "<Figure size 720x720 with 1 Axes>"
      ]
     },
     "metadata": {},
     "output_type": "display_data"
    }
   ],
   "source": [
    "\n",
    "fig = plt.figure(figsize=(10,10))\n",
    "axs= plt.subplot()\n",
    "\n",
    "# Read the data\n",
    "survey = PF.Magnetics.readMagneticsObservations('DIGHEM_Mag_floor10nt_25m.obs')\n",
    "rxLoc = survey.srcField.rxList[0].locs\n",
    "xlim = [rxLoc[:,0].min(), rxLoc[:,0].max()]\n",
    "ylim = [rxLoc[:,1].min(), rxLoc[:,1].max()]\n",
    "vmin, vmax = -25, 150\n",
    "cmap = plt.cm.gist_earth\n",
    "\n",
    "# Add shading\n",
    "im, CS = plotTopoHillside(np.c_[survey.srcField.rxList[0].locs[:,:2],survey.dobs] ,\n",
    "                          axs=axs, cmap='RdBu_r', vmin=vmin, vmax=vmax, \n",
    "                          clabel=False, \n",
    "                          alpha=0.4, alphaHS=1., ve=1., azdeg=0, altdeg=30)\n",
    "\n",
    "# Add points at the survey locations\n",
    "plt.scatter(rxLoc[:,0], rxLoc[:,1], s=2, c='k')\n",
    "\n",
    "# plt.plot(DO18[:,0], DO18[:,1], lw=3, c='k')\n",
    "# plt.text(DO18[0,0], DO18[0,1], 'DO-18', size=14, ha='right', va='top')\n",
    "# plt.plot(DO27[:,0], DO27[:,1], lw=3, c='k')\n",
    "# plt.text(DO27[0,0], DO27[0,1], 'DO-27', size=14, ha='right', va='top')\n",
    "\n",
    "# Set limits and labels\n",
    "axs.set_xlim([556500,559500])\n",
    "axs.set_ylim([7132327,7135579])\n",
    "axs.set_xticklabels([556750,558000, 559250], size=14)\n",
    "axs.set_xticks([556750,558000, 559250])\n",
    "axs.set_yticklabels([7133000,7134000, 7135000], size=14, rotation=90, va='center')\n",
    "axs.set_yticks([7133000,7134000, 7135000])\n",
    "axs.set_xlabel(\"Easting (m)\", size=14)\n",
    "axs.set_ylabel(\"Northing (m)\", size=14)\n",
    "axs.grid('on', color='k', linestyle='--')\n",
    "\n",
    "# Add colorbar\n",
    "pos = axs.get_position() # Get the position of previous axes\n",
    "axbar = plt.axes([pos.x0+.25, pos.y0+0.2,  pos.width*0.75, pos.height*.5]) # Create a new axes and reshape\n",
    "cbar = plt.colorbar(im, orientation='vertical',format='%.3f') # Add a colorbar using the color definition of previous\n",
    "cbar.set_ticks(np.linspace(-25,300,6)) # Change the tick position\n",
    "cbar.set_ticklabels(np.round(np.linspace(-25,300,6))) # Change the tick labels\n",
    "axbar.text(pos.x0+1., pos.y0+.75,'SI', size=14) # Add units and move it above\n",
    "axbar.axis('off') # Only keep the colorbar, remove the rest\n",
    "\n",
    "fig.savefig('MAG_TKC_DataMap.png',bbox_inches='tight') # Save to file"
   ]
  },
  {
   "cell_type": "code",
   "execution_count": null,
   "metadata": {
    "collapsed": true
   },
   "outputs": [],
   "source": []
  },
  {
   "cell_type": "code",
   "execution_count": null,
   "metadata": {
    "collapsed": true
   },
   "outputs": [],
   "source": []
  }
 ],
 "metadata": {
  "kernelspec": {
   "display_name": "Python 3",
   "language": "python",
   "name": "python3"
  },
  "language_info": {
   "codemirror_mode": {
    "name": "ipython",
    "version": 3
   },
   "file_extension": ".py",
   "mimetype": "text/x-python",
   "name": "python",
   "nbconvert_exporter": "python",
   "pygments_lexer": "ipython3",
   "version": "3.6.2"
  }
 },
 "nbformat": 4,
 "nbformat_minor": 2
}
