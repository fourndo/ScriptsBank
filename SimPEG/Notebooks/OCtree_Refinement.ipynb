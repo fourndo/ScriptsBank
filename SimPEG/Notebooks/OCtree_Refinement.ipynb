{
 "cells": [
  {
   "cell_type": "code",
   "execution_count": 2,
   "metadata": {
    "collapsed": true
   },
   "outputs": [],
   "source": [
    "import numpy as np\n",
    "import scipy.sparse as sp\n",
    "import unittest\n",
    "from SimPEG import Mesh, Maps, Models, Utils, PF, Regularization, Directives\n",
    "from SimPEG import InvProblem, Optimization, Inversion, DataMisfit\n",
    "import inspect\n",
    "import matplotlib.pyplot as plt\n",
    "from scipy.interpolate import griddata\n",
    "from SimPEG.Utils import mkvc\n",
    "\n",
    "from __future__ import print_function\n",
    "from ipywidgets import interact, interactive, fixed, interact_manual\n",
    "import ipywidgets as widgets\n",
    "\n"
   ]
  },
  {
   "cell_type": "code",
   "execution_count": 6,
   "metadata": {},
   "outputs": [],
   "source": [
    "h = np.ones(32)*5\n",
    "mesh = Mesh.TreeMesh([h,h,h], )\n",
    "\n",
    "\n",
    "xLoc = np.c_[35.,40.,55.]\n",
    "# xLoc = np.r_[xLoc,np.c_[75,40.,80.]]\n",
    "\n",
    "mesh.x0 = [-40.,-30.,-50.]\n"
   ]
  },
  {
   "cell_type": "code",
   "execution_count": 7,
   "metadata": {},
   "outputs": [
    {
     "name": "stdout",
     "output_type": "stream",
     "text": [
      "5\n"
     ]
    }
   ],
   "source": [
    "maxLevel = int(np.log2(mesh.hx.shape[0]))\n",
    "print(maxLevel)\n",
    "\n",
    "mesh.insert_cells(xLoc, np.r_[maxLevel], finalize=False)\n"
   ]
  },
  {
   "cell_type": "code",
   "execution_count": 8,
   "metadata": {},
   "outputs": [],
   "source": [
    "nCpad=np.r_[1, 1, 1]\n",
    "\n",
    "stencil = np.r_[\n",
    "            np.ones(nCpad[0]),\n",
    "            np.ones(nCpad[1])*2,\n",
    "            np.ones(nCpad[2])*3\n",
    "        ]\n",
    "\n",
    "# Reflect in the opposite direction\n",
    "vec = np.r_[stencil[::-1],1, stencil]\n",
    "vecX, vecY, vecZ = np.meshgrid(vec,vec,vec)\n",
    "gridLevel = np.maximum(np.maximum(vecX,\n",
    "                       vecY), vecZ)\n",
    "\n",
    "# Grid the coordinates\n",
    "vec = np.r_[-stencil[::-1],0, stencil]\n",
    "vecX, vecY, vecZ = np.meshgrid(vec,vec,vec)\n",
    "offset = np.c_[mkvc(np.sign(vecX)*2**np.abs(vecX)* mesh.hx.min()),\n",
    "               mkvc(np.sign(vecY)*2**np.abs(vecY)* mesh.hx.min()),\n",
    "               mkvc(np.sign(vecZ)*2**np.abs(vecZ)* mesh.hx.min())\n",
    "              ]\n",
    "\n",
    "# Replicate the point locations in each offseted grid points\n",
    "newLoc = np.kron(xLoc, np.ones((offset.shape[0],1))) + np.kron(np.ones((xLoc.shape[0],1)), offset )\n",
    "\n",
    "mesh.insert_cells(newLoc, mkvc(maxLevel-gridLevel+1))\n",
    "# vec = vec.reshape((1,vec.shape[0]))\n",
    "\n",
    "# vec2D = np.kron( vec, np.ones((2,1)) )\n",
    "# grid = Utils.kron3( vec2D, Utils.speye(vec.shape[1]), Utils.speye(vec.shape[1]))\n"
   ]
  },
  {
   "cell_type": "code",
   "execution_count": 281,
   "metadata": {},
   "outputs": [],
   "source": [
    "np.savetxt('NewLocs.dat', newLoc)"
   ]
  },
  {
   "cell_type": "code",
   "execution_count": 278,
   "metadata": {},
   "outputs": [
    {
     "data": {
      "image/png": "[encoded data removed]",
      "text/plain": [
       "<Figure size 432x288 with 1 Axes>"
      ]
     },
     "metadata": {},
     "output_type": "display_data"
    }
   ],
   "source": [
    "\n",
    "\n",
    "gridXYZ = 2**grid * mesh.hx.min()\n",
    "\n",
    "# Replicate the point locations in each offseted grid points\n",
    "\n",
    "\n",
    "plt.imshow(gridXYZ[:,:,5])\n",
    "plt.show()"
   ]
  },
  {
   "cell_type": "code",
   "execution_count": null,
   "metadata": {},
   "outputs": [],
   "source": []
  },
  {
   "cell_type": "code",
   "execution_count": 9,
   "metadata": {},
   "outputs": [],
   "source": [
    "# mesh.finalize()\n",
    "\n",
    "\n",
    "Mesh.TreeMesh.writeUBC(mesh, 'OctreeTest.msh',\n",
    "                       models={'Actv.mod': np.ones(mesh.nC)})"
   ]
  },
  {
   "cell_type": "code",
   "execution_count": null,
   "metadata": {
    "collapsed": true
   },
   "outputs": [],
   "source": []
  }
 ],
 "metadata": {
  "kernelspec": {
   "display_name": "Python 3",
   "language": "python",
   "name": "python3"
  },
  "language_info": {
   "codemirror_mode": {
    "name": "ipython",
    "version": 3
   },
   "file_extension": ".py",
   "mimetype": "text/x-python",
   "name": "python",
   "nbconvert_exporter": "python",
   "pygments_lexer": "ipython3",
   "version": "3.6.2"
  }
 },
 "nbformat": 4,
 "nbformat_minor": 2
}
