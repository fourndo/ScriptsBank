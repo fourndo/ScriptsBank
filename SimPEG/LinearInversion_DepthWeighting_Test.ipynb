{
 "cells": [
  {
   "cell_type": "code",
   "execution_count": 1,
   "metadata": {},
   "outputs": [
    {
     "name": "stdout",
     "output_type": "stream",
     "text": [
      "Populating the interactive namespace from numpy and matplotlib\n"
     ]
    }
   ],
   "source": [
    "from __future__ import print_function\n",
    "import numpy as np\n",
    "from SimPEG import Mesh\n",
    "from SimPEG import Problem\n",
    "from SimPEG import Survey\n",
    "from SimPEG import DataMisfit\n",
    "from SimPEG import Directives\n",
    "from SimPEG import Optimization\n",
    "from SimPEG import Regularization\n",
    "from SimPEG import InvProblem\n",
    "from SimPEG import Inversion\n",
    "import matplotlib.pyplot as plt\n",
    "%pylab inline"
   ]
  },
  {
   "cell_type": "markdown",
   "metadata": {},
   "source": [
    "# Mag Inversion\n",
    "\n",
    "## Step1: Generating mesh"
   ]
  },
  {
   "cell_type": "code",
   "execution_count": 2,
   "metadata": {},
   "outputs": [],
   "source": [
    "np.random.seed(1)\n",
    "Z = 1.\n",
    "\n",
    "N = 100\n",
    "dx = Z/N\n",
    "hx = np.r_[np.ones(int(3*N/4))*dx, np.ones(int(N/4))*dx]\n",
    "hx[[60]] = dx*5.\n",
    "hx *= (Z/np.sum(hx)) # Re-normalize the length to compensate for the notch\n",
    "\n",
    "mesh = Mesh.TensorMesh([hx])\n",
    "\n",
    "nk = 10\n",
    "jk = np.linspace(1., 60., nk)\n",
    "p = -0.2/Z\n",
    "q = 0.2/Z\n",
    "\n",
    "def g(k):\n",
    "    a = p*(k+1)\n",
    "    b = 2*np.pi*q*(k+1)\n",
    "    return (\n",
    "        \n",
    "\n",
    "        \n",
    "#         np.exp(a*mesh.vectorCCx) *\n",
    "#         np.cos(b*mesh.vectorCCx)\n",
    "#         ((np.exp(p*(k+1)*mesh.vectorNx[0:-1]) *\n",
    "#         np.cos(2*np.pi*q*(k+1)*mesh.vectorNx[0:-1]))+\n",
    "#         (np.exp(p*(k+1)*mesh.vectorNx[1:]) *\n",
    "#         np.cos(2*np.pi*q*(k+1)*mesh.vectorNx[1:]))) / 2 *\n",
    "#         mesh.hx\n",
    "        np.exp( a * mesh.vectorNx[1:] ) * (a/(a**2+b**2)*cos (b * mesh.vectorNx[1:]) + b/(a**2+b**2) *sin (b * mesh.vectorNx[1:])) -\n",
    "        np.exp( a * mesh.vectorNx[0:-1] ) * (a/(a**2+b**2)*cos (b * mesh.vectorNx[0:-1]) + b/(a**2+b**2) *sin (b * mesh.vectorNx[0:-1]))\n",
    "    )\n",
    "\n",
    "F = np.empty((nk, mesh.nC))\n",
    "\n",
    "for i in range(nk):\n",
    "    F[i, :] = g(i)"
   ]
  },
  {
   "cell_type": "markdown",
   "metadata": {},
   "source": [
    "## Step2: Generating Model\n",
    "\n"
   ]
  },
  {
   "cell_type": "code",
   "execution_count": 3,
   "metadata": {},
   "outputs": [],
   "source": [
    "mtrue = np.zeros(mesh.nC)\n",
    "mtrue[mesh.vectorCCx > N*dx*0.35] = 0.25\n",
    "mtrue[mesh.vectorCCx > N*dx*0.65] = 0\n"
   ]
  },
  {
   "cell_type": "code",
   "execution_count": 38,
   "metadata": {},
   "outputs": [
    {
     "name": "stdout",
     "output_type": "stream",
     "text": [
      "SimPEG.DataMisfit.l2_DataMisfit assigning default eps of 1e-5 * ||dobs||\n",
      "SimPEG.InvProblem will set Regularization.mref to m0.\n",
      "\n",
      "    SimPEG.InvProblem is setting bfgsH0 to the inverse of the eval2Deriv.\n",
      "    ***Done using same Solver and solverOpts as the problem***\n",
      "model has any nan: 0\n",
      "=============================== Projected GNCG ===============================\n",
      "  #     beta     phi_d     phi_m       f      |proj(x-g)-x|  LS    Comment   \n",
      "-----------------------------------------------------------------------------\n",
      "x0 has any nan: 0\n",
      "   0  1.00e-07  4.01e+03  0.00e+00  4.01e+03    7.47e+03      0              \n",
      "------------------------- STOP! -------------------------\n",
      "1 : |fc-fOld| = 0.0000e+00 <= tolF*(1+|f0|) = 4.0121e+02\n",
      "0 : |xc-x_last| = 1.2463e+00 <= tolX*(1+|x0|) = 1.0000e-01\n",
      "0 : |proj(x-g)-x|    = 7.4729e+03 <= tolG          = 1.0000e-01\n",
      "0 : |proj(x-g)-x|    = 7.4729e+03 <= 1e3*eps       = 1.0000e-02\n",
      "0 : maxIter   =     100    <= iter          =      1\n",
      "------------------------- DONE! -------------------------\n"
     ]
    }
   ],
   "source": [
    "prob = Problem.LinearProblem(mesh, G=F)\n",
    "survey = Survey.LinearSurvey()\n",
    "survey.pair(prob)\n",
    "survey.makeSyntheticData(mtrue, std=0.001)\n",
    "\n",
    "M = prob.mesh\n",
    "\n",
    "wr = np.sum(prob.G**2., axis=0)**0.5\n",
    "wr = (wr)\n",
    "reg_t = Regularization.Tikhonov(mesh, alpha_s=1/dx**2, alpha_x=1.)\n",
    "reg_t.cell_weights = wr/mesh.vol\n",
    "dmis = DataMisfit.l2_DataMisfit(survey)\n",
    "dmis.W = 1/survey.std\n",
    "opt = Optimization.ProjectedGNCG(maxIter=100)\n",
    "invProb = InvProblem.BaseInvProblem(dmis, reg_t, opt, beta = 1e-7)\n",
    "directives = [\n",
    "    Directives.TargetMisfit(chifact=10),\n",
    "    Directives.BetaSchedule(coolingFactor=2., coolingRate=1)\n",
    "]\n",
    "inv = Inversion.BaseInversion(invProb, directiveList=directives)\n",
    "m0 = np.zeros_like(survey.mtrue)\n",
    "\n",
    "mrec_Thikonov = inv.run(m0)\n",
    "\n"
   ]
  },
  {
   "cell_type": "code",
   "execution_count": 43,
   "metadata": {},
   "outputs": [
    {
     "name": "stdout",
     "output_type": "stream",
     "text": [
      "SimPEG.DataMisfit.l2_DataMisfit assigning default eps of 1e-5 * ||dobs||\n",
      "SimPEG.InvProblem will set Regularization.mref to m0.\n",
      "\n",
      "    SimPEG.InvProblem is setting bfgsH0 to the inverse of the eval2Deriv.\n",
      "    ***Done using same Solver and solverOpts as the problem***\n",
      "model has any nan: 0\n",
      "=============================== Projected GNCG ===============================\n",
      "  #     beta     phi_d     phi_m       f      |proj(x-g)-x|  LS    Comment   \n",
      "-----------------------------------------------------------------------------\n",
      "x0 has any nan: 0\n",
      "   0  1.00e-05  4.01e+03  0.00e+00  4.01e+03    7.47e+03      0              \n",
      "------------------------- STOP! -------------------------\n",
      "1 : |fc-fOld| = 0.0000e+00 <= tolF*(1+|f0|) = 4.0121e+02\n",
      "0 : |xc-x_last| = 1.2470e+00 <= tolX*(1+|x0|) = 1.0000e-01\n",
      "0 : |proj(x-g)-x|    = 7.4729e+03 <= tolG          = 1.0000e-01\n",
      "0 : |proj(x-g)-x|    = 7.4729e+03 <= 1e3*eps       = 1.0000e-02\n",
      "0 : maxIter   =     100    <= iter          =      1\n",
      "------------------------- DONE! -------------------------\n"
     ]
    }
   ],
   "source": [
    "reg_s = Regularization.Simple(mesh, alpha_s=1., alpha_x=1.)\n",
    "reg_s.cell_weights = wr\n",
    "dmis_s = DataMisfit.l2_DataMisfit(survey)\n",
    "dmis_s.W = 1/survey.std\n",
    "opt_s = Optimization.ProjectedGNCG(maxIter=100)\n",
    "invProb_s = InvProblem.BaseInvProblem(dmis_s, reg_s, opt_s, beta = 1e-5)\n",
    "directives = [\n",
    "    Directives.TargetMisfit(chifact=10),\n",
    "    Directives.BetaSchedule(coolingFactor=2., coolingRate=1)\n",
    "]\n",
    "inv_s = Inversion.BaseInversion(invProb_s, directiveList=directives)\n",
    "m0 = np.zeros_like(survey.mtrue)\n",
    "\n",
    "mrec_Simple = inv_s.run(m0)"
   ]
  },
  {
   "cell_type": "code",
   "execution_count": 44,
   "metadata": {},
   "outputs": [
    {
     "data": {
      "image/png": "[encoded data removed]",
      "text/plain": [
       "<matplotlib.figure.Figure at 0x1e33f875668>"
      ]
     },
     "metadata": {},
     "output_type": "display_data"
    }
   ],
   "source": [
    "fig, axes = plt.subplots(1, 2, figsize=(12*1.2, 4*1.2))\n",
    "for i in range(prob.G.shape[0]):\n",
    "    axes[0].step(M.vectorCCx,prob.G[i, :])\n",
    "axes[0].set_title('Columns of matrix F')\n",
    "\n",
    "axes[1].step(M.vectorCCx, survey.mtrue, 'b-')\n",
    "axes[1].step(M.vectorCCx, mrec_Thikonov, 'r-')\n",
    "axes[1].step(M.vectorCCx, mrec_Simple, 'g-')\n",
    "axes[1].legend(('True Model', 'Thikonov Model', 'Simple Model'))\n",
    "axes[1].set_ylim([-0.1, 0.4])\n",
    "axes[1].grid(True)\n",
    "\n",
    "plt.savefig('InvModel_1Bigcell_mixWr.png')"
   ]
  },
  {
   "cell_type": "code",
   "execution_count": 8,
   "metadata": {},
   "outputs": [
    {
     "data": {
      "text/plain": [
       "[<matplotlib.lines.Line2D at 0x1e33f7cf4a8>]"
      ]
     },
     "execution_count": 8,
     "metadata": {},
     "output_type": "execute_result"
    },
    {
     "data": {
      "image/png": "[encoded data removed]",
      "text/plain": [
       "<matplotlib.figure.Figure at 0x1e33f7cf160>"
      ]
     },
     "metadata": {},
     "output_type": "display_data"
    }
   ],
   "source": [
    "plt.figure()\n",
    "plt.plot(survey.dobs)\n",
    "plt.plot(invProb.dpred)\n"
   ]
  },
  {
   "cell_type": "code",
   "execution_count": 27,
   "metadata": {},
   "outputs": [],
   "source": [
    "# Rank the sensitivities and find the threshold value\n"
   ]
  },
  {
   "cell_type": "code",
   "execution_count": 10,
   "metadata": {},
   "outputs": [
    {
     "ename": "NameError",
     "evalue": "name 'P' is not defined",
     "output_type": "error",
     "traceback": [
      "\u001b[1;31m---------------------------------------------------------------------------\u001b[0m",
      "\u001b[1;31mNameError\u001b[0m                                 Traceback (most recent call last)",
      "\u001b[1;32m<ipython-input-10-68e84587ae1e>\u001b[0m in \u001b[0;36m<module>\u001b[1;34m()\u001b[0m\n\u001b[1;32m----> 1\u001b[1;33m \u001b[0mplt\u001b[0m\u001b[1;33m.\u001b[0m\u001b[0mspy\u001b[0m\u001b[1;33m(\u001b[0m\u001b[0mP\u001b[0m\u001b[1;33m,\u001b[0m \u001b[0mmarkersize\u001b[0m\u001b[1;33m=\u001b[0m\u001b[1;36m1\u001b[0m\u001b[1;33m)\u001b[0m\u001b[1;33m\u001b[0m\u001b[0m\n\u001b[0m",
      "\u001b[1;31mNameError\u001b[0m: name 'P' is not defined"
     ]
    }
   ],
   "source": [
    "plt.spy(P, markersize=1)"
   ]
  },
  {
   "cell_type": "code",
   "execution_count": 32,
   "metadata": {},
   "outputs": [
    {
     "data": {
      "text/plain": [
       "0.011051781143468825"
      ]
     },
     "execution_count": 32,
     "metadata": {},
     "output_type": "execute_result"
    }
   ],
   "source": [
    "pctVal[7]"
   ]
  },
  {
   "cell_type": "code",
   "execution_count": 31,
   "metadata": {},
   "outputs": [
    {
     "name": "stdout",
     "output_type": "stream",
     "text": [
      "0.0114942284977\n"
     ]
    },
    {
     "data": {
      "text/plain": [
       "[<matplotlib.lines.Line2D at 0x1e3414aec88>]"
      ]
     },
     "execution_count": 31,
     "metadata": {},
     "output_type": "execute_result"
    },
    {
     "data": {
      "image/png": "[encoded data removed]",
      "text/plain": [
       "<matplotlib.figure.Figure at 0x1e3414be898>"
      ]
     },
     "metadata": {},
     "output_type": "display_data"
    }
   ],
   "source": [
    "import scipy.sparse as sp\n",
    "Japprox = np.sum(prob.G**2., axis=0)**0.5\n",
    "pctVal = np.percentile(Japprox,np.asarray(range(20))*5)\n",
    "\n",
    "step = mrec_Simple - m0\n",
    "\n",
    "indx = Japprox > pctVal[7]\n",
    "P = sp.spdiags(indx*1.,0, mesh.nC, mesh.nC)\n",
    "\n",
    "ddata = np.sum(((np.dot(prob.G,P*(step)) - survey.dobs)/survey.std)**2.)/2\n",
    "print(ddata)\n",
    "plt.figure()\n",
    "plt.plot(np.dot(prob.G*P,step))\n",
    "plt.plot(survey.dobs)\n"
   ]
  },
  {
   "cell_type": "code",
   "execution_count": 12,
   "metadata": {},
   "outputs": [
    {
     "data": {
      "text/plain": [
       "0.011784124874346061"
      ]
     },
     "execution_count": 12,
     "metadata": {},
     "output_type": "execute_result"
    }
   ],
   "source": [
    "invProb.phi_d\n"
   ]
  },
  {
   "cell_type": "code",
   "execution_count": null,
   "metadata": {
    "collapsed": true
   },
   "outputs": [],
   "source": []
  }
 ],
 "metadata": {
  "kernelspec": {
   "display_name": "Python 3",
   "language": "python",
   "name": "python3"
  },
  "language_info": {
   "codemirror_mode": {
    "name": "ipython",
    "version": 3
   },
   "file_extension": ".py",
   "mimetype": "text/x-python",
   "name": "python",
   "nbconvert_exporter": "python",
   "pygments_lexer": "ipython3",
   "version": "3.6.2"
  }
 },
 "nbformat": 4,
 "nbformat_minor": 1
}
