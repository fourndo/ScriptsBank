{
 "cells": [
  {
   "cell_type": "markdown",
   "metadata": {},
   "source": [
    "**Objective:** \n",
    "\n",
    "In this tutorial we will create a simple magnetic problem from scratch using the SimPEG framework.\n",
    "\n",
    "We are using the integral form of the magnetostatic problem. In the absence of free-currents or changing magnetic field, magnetic material can give rise to a secondary magnetic field according to:\n",
    "\n",
    "$$\\vec b = \\frac{\\mu_0}{4\\pi}  \\int_{V}   \\vec M \\cdot \\nabla \\nabla \\left(\\frac{1}{r}\\right) \\; dV $$\n",
    "\n",
    "Where $\\mu_0$ is the magnetic permealitity of free-space, $\\vec M$ is the magnetization per unit volume and $r$  defines the distance between the observed field $\\vec b$ and the magnetized object. Assuming a purely induced response, the strenght of magnetization can be written as:\n",
    "\n",
    "$$ \\vec M = \\mu_0 \\kappa \\vec H_0 $$\n",
    "\n",
    "where $\\vec H$ is an external inducing magnetic field, and $\\kappa$ the magnetic susceptibility of matter.\n",
    "As derived by Sharma 1966, the integral can be evaluated for rectangular prisms such that:\n",
    "\n",
    "$$ \\vec b(P) =  \\mathbf{T} \\cdot \\vec H_0 \\; \\kappa $$\n",
    "\n",
    "Where the tensor matrix $\\bf{T}$ relates the three components of magnetization $\\vec M$ to the components of the field $\\vec b$:\n",
    "\n",
    "$$\\mathbf{T} =\n",
    "\t \\begin{pmatrix}\n",
    "       \t\tT_{xx} & T_{xy} & T_{xz}    \\\\\n",
    "\t\tT_{yx} & T_{yy} & T_{yz}    \\\\\n",
    "\t\tT_{zx} & T_{zy} & T_{zz}           \n",
    "\t\\end{pmatrix} $$\n",
    "    \n",
    "In general, we discretize the earth into a collection of cells, each contributing to the magnetic data such that:\n",
    "\n",
    "$$\\vec b(P) = \\sum_{j=1}^{nc} \\mathbf{T}_j \\cdot \\vec H_0 \\; \\kappa_j$$\n",
    "\n",
    "giving rise to a linear problem.\n"
   ]
  },
  {
   "cell_type": "code",
   "execution_count": 1,
   "metadata": {
    "collapsed": false
   },
   "outputs": [
    {
     "name": "stdout",
     "output_type": "stream",
     "text": [
      "Using matplotlib backend: nbAgg\n",
      "Populating the interactive namespace from numpy and matplotlib\n"
     ]
    },
    {
     "name": "stderr",
     "output_type": "stream",
     "text": [
      "C:\\Users\\dominiquef.MIRAGEOSCIENCE\\AppData\\Local\\Continuum\\Anaconda\\lib\\site-packages\\IPython\\kernel\\__init__.py:13: ShimWarning: The `IPython.kernel` package has been deprecated. You should import from ipykernel or jupyter_client instead.\n",
      "  \"You should import from ipykernel or jupyter_client instead.\", ShimWarning)\n"
     ]
    }
   ],
   "source": [
    "%matplotlib notebook\n",
    "%pylab"
   ]
  },
  {
   "cell_type": "code",
   "execution_count": 13,
   "metadata": {
    "collapsed": false
   },
   "outputs": [],
   "source": [
    "from SimPEG import Mesh, Directives, Maps, InvProblem, Optimization, DataMisfit, Inversion, Utils, Regularization\n",
    "import SimPEG.PF as PF\n",
    "import numpy as np\n",
    "import matplotlib.pyplot as plt"
   ]
  },
  {
   "cell_type": "code",
   "execution_count": 100,
   "metadata": {
    "collapsed": false,
    "scrolled": true
   },
   "outputs": [],
   "source": [
    "# First we need to define the direction of the inducing field\n",
    "# As a simple case, we pick a vertical inducing field of magnitude 50,000nT. \n",
    "# From old convention, field orientation is given as an azimuth from North \n",
    "# (positive clockwise) and dip from the horizontal (positive downward).\n",
    "H0 = (50000., 90.,0.)\n",
    "\n",
    "# Assume all induced so the magnetization M is also in the same direction\n",
    "M = np.array([90,0])\n",
    "\n",
    "# Create a mesh\n",
    "hxind = [(5, 20)]\n",
    "hyind = [(5, 20)]\n",
    "hzind = [(5, 10)]\n",
    "\n",
    "mesh = Mesh.TensorMesh([hxind, hyind, hzind], 'CCC')\n",
    "\n",
    "# Assume flat topo for now, so all cells are active\n",
    "nC   = mesh.nC \n",
    "actv = np.asarray(range(mesh.nC))\n",
    "\n",
    "\n",
    "# Create and array of observation points\n",
    "xr = np.linspace(-20., 20., 20)\n",
    "yr = np.linspace(-20., 20., 20)\n",
    "X, Y = np.meshgrid(xr, yr)\n",
    "Z = np.ones(X.size)*(mesh.vectorNz[-1]+1.) # Let just put the observation flat\n",
    "\n",
    "# Create a MAGsurvey\n",
    "xyzLoc = np.c_[Utils.mkvc(X.T), Utils.mkvc(Y.T), Utils.mkvc(Z.T)]\n",
    "rxLoc = PF.BaseMag.RxObs(xyzLoc)\n",
    "srcField = PF.BaseMag.SrcField([rxLoc], param=H0)\n",
    "survey = PF.BaseMag.LinearSurvey(srcField) \n"
   ]
  },
  {
   "cell_type": "markdown",
   "metadata": {},
   "source": [
    "Now that we have all our spatial components, we can create our linear system. For a single location and single component of the data, the system would looks like this:\n",
    "\n",
    "$$ b_x =\n",
    "\t\\begin{bmatrix}\n",
    "\tT_{xx}^1 &... &T_{xx}^{nc} & T_{xy}^1 & ... & T_{xy}^{nc} & T_{xz}^1 & ... & T_{xz}^{nc}\\\\\n",
    "\t \\end{bmatrix}\n",
    "\t \\begin{bmatrix}\n",
    "\t\t\\mathbf{M}_x \\\\ \\mathbf{M}_y \\\\ \\mathbf{M}_z\n",
    "\t\\end{bmatrix} \\\\ $$\n",
    "\n",
    "where each of $T_{xx},\\;T_{xy},\\;T_{xz}$ are [nc x 1] long. For the $y$ and $z$ component, we need the two other rows of the tensor $\\mathbf{T}$.\n",
    "In our simple induced case, the magnetization direction $\\mathbf{M_x,\\;M_y\\;,Mz}$ are known and assumed to be constant everywhere, so we can reduce the size of the system such that: \n",
    "\n",
    "$$ \\vec{\\mathbf{d}}_{\\text{pred}} = (\\mathbf{T\\cdot M})\\; \\kappa$$\n",
    "\n",
    "\n",
    "\n",
    "In most geophysical surveys, we are not collecting all three components, but rather the magnitude of the field, or $Total\\;Magnetic\\;Intensity$ (TMI) data.\n",
    "Because the inducing field is really large, we will assume that the anomalous fields are parallel to $H_0$:\n",
    "\n",
    "$$ d^{TMI}  = \\hat H_0 \\cdot \\vec d$$\n",
    "\n",
    "We then end up with a much smaller system:\n",
    "\n",
    "$$ d^{TMI} = \\mathbf{F\\; \\kappa}$$\n",
    "\n",
    "where $\\mathbf{F} \\in \\mathbb{R}^{nd \\times nc}$ is our $forward$ operator."
   ]
  },
  {
   "cell_type": "code",
   "execution_count": 101,
   "metadata": {
    "collapsed": false
   },
   "outputs": [
    {
     "name": "stdout",
     "output_type": "stream",
     "text": [
      "Begin calculation of forward operator: ind\n",
      "Done 0.0 %\n",
      "Done 10.0 %\n",
      "Done 20.0 %\n",
      "Done 30.0 %\n",
      "Done 40.0 %\n",
      "Done 50.0 %\n",
      "Done 60.0 %\n",
      "Done 70.0 %\n",
      "Done 80.0 %\n",
      "Done 90.0 %\n",
      "Done 100% ...forward operator completed!!\n",
      "\n"
     ]
    }
   ],
   "source": [
    "# First, convert the magnetization direction to Cartesian\n",
    "# mi = np.ones(mesh.nC) * M[1]\n",
    "# md = np.ones(mesh.nC) * M[2]\n",
    "# M_xyz = PF.Magnetics.dipazm_2_xyz( mi , md ) # Ouputs an nc x 3 array\n",
    "\n",
    "# We can now create a susceptibility model and generate data\n",
    "# Lets start with a simple block in half-space\n",
    "model = np.zeros((mesh.nCx,mesh.nCy,mesh.nCz))\n",
    "model[8:11,8:11,6:9] = 0.01\n",
    "model = Utils.mkvc(model)\n",
    "\n",
    "# Create active map to go from reduce set to full\n",
    "actvMap = Maps.InjectActiveCells(mesh, actv, -100)\n",
    "\n",
    "# Creat reduced identity map\n",
    "idenMap = Maps.IdentityMap(nP = int(mesh.nC))\n",
    "\n",
    "# Create the forward model operator\n",
    "prob = PF.Magnetics.MagneticIntegral(mesh, chiMap = idenMap, actInd = actv)\n",
    "\n",
    "# Pair the survey and problem\n",
    "survey.pair(prob)\n",
    "\n",
    "# Compute linear forward operator and compute some data\n",
    "data = prob.fields(model)"
   ]
  },
  {
   "cell_type": "code",
   "execution_count": 103,
   "metadata": {
    "collapsed": false
   },
   "outputs": [
    {
     "data": {
      "image/png": "[encoded data removed]",
      "text/plain": [
       "<matplotlib.figure.Figure at 0x1f6932f5320>"
      ]
     },
     "metadata": {},
     "output_type": "display_data"
    },
    {
     "data": {
      "image/png": "[encoded data removed]",
      "text/plain": [
       "<matplotlib.figure.Figure at 0x1f6932ad908>"
      ]
     },
     "metadata": {},
     "output_type": "display_data"
    }
   ],
   "source": [
    "\n",
    "# Create a few models\n",
    "plt.figure()\n",
    "ax = plt.subplot()\n",
    "mesh.plotSlice(model, ax = ax, normal = 'Y', ind=10)\n",
    "ax.set_title('A simple block model.')\n",
    "ax.set_xlabel('x');ax.set_ylabel('y')\n",
    "plt.gca().set_aspect('equal', adjustable='box')\n",
    "\n",
    "plt.show()\n",
    "\n",
    "# We can now generate data\n",
    "#data = F.dot(model)  #: this is matrix multiplication!!\n",
    "PF.Magnetics.plot_obs_2D(xyzLoc, d=data)\n",
    "ax.set_title('Predicted data.')\n",
    "plt.gca().set_aspect('equal', adjustable='box')\n"
   ]
  },
  {
   "cell_type": "markdown",
   "metadata": {},
   "source": []
  },
  {
   "cell_type": "markdown",
   "metadata": {},
   "source": [
    "Once we have our problem, we can use the inversion tools in SimPEG to run our inversion:"
   ]
  },
  {
   "cell_type": "code",
   "execution_count": 114,
   "metadata": {
    "collapsed": false
   },
   "outputs": [
    {
     "name": "stdout",
     "output_type": "stream",
     "text": [
      "SimPEG.DataMisfit.l2_DataMisfit assigning default eps of 1e-5 * ||dobs||\n",
      "\n",
      "    SimPEG.InvProblem is setting bfgsH0 to the inverse of the eval2Deriv.\n",
      "    ***Done using same Solver and solverOpts as the problem***\n",
      "model has any nan: 0\n",
      "=============================== Projected GNCG ===============================\n",
      "  #     beta     phi_d     phi_m       f      |proj(x-g)-x|  LS    Comment   \n",
      "-----------------------------------------------------------------------------\n",
      "x0 has any nan: 0\n",
      "   0  1.14e+06  1.24e+05  1.62e-02  1.42e+05    3.32e+02      0              \n",
      "   1  5.72e+05  1.16e+05  6.60e-03  1.19e+05    4.62e+02      0              \n",
      "   2  2.86e+05  1.03e+05  2.33e-02  1.09e+05    4.57e+02      0              \n",
      "   3  1.43e+05  8.47e+04  6.91e-02  9.46e+04    4.32e+02      0   Skip BFGS  \n",
      "   4  7.15e+04  6.35e+04  1.77e-01  7.61e+04    4.19e+02      0   Skip BFGS  \n",
      "   5  3.58e+04  4.23e+04  3.89e-01  5.62e+04    4.00e+02      0   Skip BFGS  \n",
      "   6  1.79e+04  2.45e+04  7.43e-01  3.78e+04    3.84e+02      0   Skip BFGS  \n",
      "   7  8.94e+03  1.19e+04  1.24e+00  2.29e+04    3.74e+02      0   Skip BFGS  \n",
      "   8  4.47e+03  4.87e+03  1.77e+00  1.28e+04    3.67e+02      0   Skip BFGS  \n",
      "   9  2.23e+03  1.89e+03  2.22e+00  6.84e+03    3.74e+02      0   Skip BFGS  \n",
      "  10  1.12e+03  8.46e+02  2.53e+00  3.67e+03    3.74e+02      0   Skip BFGS  \n",
      "  11  5.59e+02  5.13e+02  2.73e+00  2.04e+03    3.66e+02      0   Skip BFGS  \n",
      "  12  2.79e+02  3.90e+02  2.87e+00  1.19e+03    3.57e+02      0   Skip BFGS  \n",
      "  13  1.40e+02  3.24e+02  3.04e+00  7.49e+02    3.66e+02      0   Skip BFGS  \n",
      "  14  6.98e+01  2.59e+02  3.35e+00  4.94e+02    3.22e+02      0   Skip BFGS  \n",
      "  15  3.49e+01  2.44e+02  3.46e+00  3.65e+02    3.81e+02      1              \n",
      "  16  1.75e+01  2.19e+02  3.81e+00  2.85e+02    3.87e+02      0              \n",
      "  17  8.73e+00  2.11e+02  3.94e+00  2.46e+02    4.15e+02      0              \n",
      "Convergence with smooth l2-norm regularization: Start IRLS steps...\n",
      "L[p qx qy qz]-norm : [ 2.  2.  2.  2.]\n",
      "eps_p: 0.0009532451561123283 eps_q: 0.0005689976250290562\n",
      "Regularization decrease: 0.000e+00\n",
      "  18  8.73e+00  1.81e+02  4.15e+00  2.17e+02    3.71e+02      0              \n",
      "  19  8.73e+00  1.74e+02  4.32e+00  2.12e+02    4.16e+02      0              \n",
      "  20  8.73e+00  1.58e+02  4.46e+00  1.97e+02    3.55e+02      0              \n",
      "------------------------- STOP! -------------------------\n",
      "1 : |fc-fOld| = 1.4764e+01 <= tolF*(1+|f0|) = 1.4242e+04\n",
      "1 : |xc-x_last| = 5.9562e-03 <= tolX*(1+|x0|) = 1.0063e-01\n",
      "0 : |proj(x-g)-x|    = 3.5494e+02 <= tolG          = 1.0000e-01\n",
      "0 : |proj(x-g)-x|    = 3.5494e+02 <= 1e3*eps       = 1.0000e-02\n",
      "1 : maxIter   =      20    <= iter          =     20\n",
      "------------------------- DONE! -------------------------\n"
     ]
    }
   ],
   "source": [
    "#survey.makeSyntheticData(data, std=0.01)\n",
    "survey.dobs=data\n",
    "survey.std = np.ones(len(data))\n",
    "\n",
    "\n",
    "# Create sensitivity weights from our linear forward operator\n",
    "rxLoc = survey.srcField.rxList[0].locs\n",
    "wr = np.zeros(prob.G.shape[1])\n",
    "for ii in range(survey.nD):\n",
    "    wr += (prob.G[ii, :]/survey.std[ii])**2.\n",
    "\n",
    "# wr = (wr/np.max(wr))\n",
    "wr = wr**0.5\n",
    "\n",
    "# Create a regularization\n",
    "reg = Regularization.Sparse(mesh, indActive=actv, mapping=idenMap)\n",
    "# reg.norms = driver.lpnorms\n",
    "\n",
    "# if driver.eps is not None:\n",
    "#     reg.eps_p = driver.eps[0]\n",
    "#     reg.eps_q = driver.eps[1]\n",
    "\n",
    "reg.cell_weights = wr#driver.cell_weights*mesh.vol**0.5\n",
    "\n",
    "reg.mref = np.zeros(mesh.nC)\n",
    "# Data misfit function\n",
    "dmis = DataMisfit.l2_DataMisfit(survey)\n",
    "dmis.W = 1./survey.std\n",
    "\n",
    "# Add directives to the inversion\n",
    "opt = Optimization.ProjectedGNCG(maxIter=20, lower=0., upper=10.,\n",
    "                                 maxIterLS=20, maxIterCG=10, tolCG=1e-4)\n",
    "invProb = InvProblem.BaseInvProblem(dmis, reg, opt)\n",
    "betaest = Directives.BetaEstimate_ByEig()\n",
    "\n",
    "# Here is where the norms are applied\n",
    "# Use pick a treshold parameter empirically based on the distribution of\n",
    "#  model parameters\n",
    "IRLS = Directives.Update_IRLS(f_min_change=1e-3, minGNiter=3, maxIRLSiter=10)\n",
    "update_Jacobi = Directives.Update_lin_PreCond()\n",
    "\n",
    "# saveModel = Directives.SaveUBCModelEveryIteration(mapping=actvMap)\n",
    "# saveModel.fileName = work_dir + out_dir + 'ModelSus'\n",
    "\n",
    "inv = Inversion.BaseInversion(invProb,\n",
    "                              directiveList=[betaest, IRLS, update_Jacobi])\n",
    "\n",
    "# Run the inversion\n",
    "m0 = np.ones(mesh.nC)  * 1e-4# Starting model\n",
    "prob.model = m0\n",
    "mrec = inv.run(m0)"
   ]
  },
  {
   "cell_type": "code",
   "execution_count": 115,
   "metadata": {
    "collapsed": false
   },
   "outputs": [
    {
     "data": {
      "image/png": "[encoded data removed]",
      "text/plain": [
       "<matplotlib.figure.Figure at 0x1f69486ab00>"
      ]
     },
     "metadata": {},
     "output_type": "display_data"
    }
   ],
   "source": [
    "plt.figure()\n",
    "ax = plt.subplot()\n",
    "mesh.plotSlice(mrec, ax = ax, normal = 'Y', ind=10)\n",
    "ax.set_title('Recovered model.')\n",
    "ax.set_xlabel('x');ax.set_ylabel('y')\n",
    "plt.gca().set_aspect('equal', adjustable='box')\n",
    "plt.show()"
   ]
  },
  {
   "cell_type": "markdown",
   "metadata": {},
   "source": [
    "Hopefully you now have an idea of how to create a Problem class in SimPEG, and how this can be used with the other tools available."
   ]
  },
  {
   "cell_type": "code",
   "execution_count": 108,
   "metadata": {
    "collapsed": true
   },
   "outputs": [],
   "source": [
    "m = np.ones(prob.G.shape[1])\n",
    "def JtJv(v):\n",
    "\n",
    "    Jv = prob.Jvec(m, v)\n",
    "\n",
    "    return prob.Jtvec(m, Jv)\n",
    "\n",
    "JtJdiag = Utils.diagEst(JtJv, len(m0), k=2000,approach='Probing')"
   ]
  },
  {
   "cell_type": "code",
   "execution_count": 109,
   "metadata": {
    "collapsed": false
   },
   "outputs": [
    {
     "data": {
      "image/png": "[encoded data removed]",
      "text/plain": [
       "<matplotlib.figure.Figure at 0x1f6930c41d0>"
      ]
     },
     "metadata": {},
     "output_type": "display_data"
    }
   ],
   "source": [
    "ind = -5\n",
    "normal = 'Z'\n",
    "# vmin = wr.min()\n",
    "# vmax = wr.max()\n",
    "\n",
    "plt.figure()\n",
    "ax = plt.subplot(1,2,1)\n",
    "mesh.plotSlice(np.log10(np.abs(JtJdiag)**0.5), ax = ax, normal=normal, ind=ind)\n",
    "ax.set_title('Recovered model.')\n",
    "ax.set_xlabel('x');ax.set_ylabel('y')\n",
    "plt.gca().set_aspect('equal', adjustable='box')\n",
    "\n",
    "ax = plt.subplot(1,2,2)\n",
    "mesh.plotSlice(np.log10(wr), ax = ax, normal=normal, ind=ind)\n",
    "ax.set_title('Recovered model.')\n",
    "ax.set_xlabel('x');ax.set_ylabel('y')\n",
    "plt.gca().set_aspect('equal', adjustable='box')\n",
    "plt.show()"
   ]
  },
  {
   "cell_type": "code",
   "execution_count": 111,
   "metadata": {
    "collapsed": false
   },
   "outputs": [
    {
     "name": "stdout",
     "output_type": "stream",
     "text": [
      "-0.106040659523 0.804634839591\n"
     ]
    }
   ],
   "source": [
    "print(np.log10(np.abs(JtJdiag)**0.5).min(), np.log10(wr).min())"
   ]
  },
  {
   "cell_type": "code",
   "execution_count": 94,
   "metadata": {
    "collapsed": false
   },
   "outputs": [
    {
     "data": {
      "text/plain": [
       "(4000,)"
      ]
     },
     "execution_count": 94,
     "metadata": {},
     "output_type": "execute_result"
    }
   ],
   "source": [
    "wr.shape"
   ]
  },
  {
   "cell_type": "code",
   "execution_count": null,
   "metadata": {
    "collapsed": true
   },
   "outputs": [],
   "source": []
  }
 ],
 "metadata": {
  "anaconda-cloud": {},
  "kernelspec": {
   "display_name": "Python 3",
   "language": "python",
   "name": "python3"
  },
  "language_info": {
   "codemirror_mode": {
    "name": "ipython",
    "version": 3
   },
   "file_extension": ".py",
   "mimetype": "text/x-python",
   "name": "python",
   "nbconvert_exporter": "python",
   "pygments_lexer": "ipython3",
   "version": "3.6.0"
  }
 },
 "nbformat": 4,
 "nbformat_minor": 0
}
